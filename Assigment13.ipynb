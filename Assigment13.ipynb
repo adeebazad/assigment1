{
 "cells": [
  {
   "cell_type": "markdown",
   "id": "7db262f1-b26a-478b-b326-e6eb9a80675e",
   "metadata": {},
   "source": [
    "Q1. Explain why we have to use the Exception class while creating a Custom Exception.\n",
    "Note: Here Exception class refers to the base class for all the exceptions.\n"
   ]
  },
  {
   "cell_type": "markdown",
   "id": "38c334dc-ea48-4978-8a36-dfa2e4508074",
   "metadata": {},
   "source": [
    "Ans-\n",
    "\n",
    "when we want to create a custom exception, we need to define a new class that inherits from the Exception class or one of its subclasses. This is because the Exception class provides a basic structure and behavior for all exceptions in Python, including built-in exceptions.\n",
    "\n",
    "By inheriting from the Exception class, we can take advantage of the built-in behavior and attributes of exceptions, such as the ability to include a custom message and a traceback."
   ]
  },
  {
   "cell_type": "markdown",
   "id": "66232425-47ff-48ba-a346-ed24fc66aa23",
   "metadata": {},
   "source": [
    "Q2. Write a python program to print Python Exception Hierarchy.\n"
   ]
  },
  {
   "cell_type": "code",
   "execution_count": 3,
   "id": "376b35ca-ec63-4c9d-850c-3ecedf063a3e",
   "metadata": {},
   "outputs": [],
   "source": [
    "import logging\n",
    "logging.basicConfig(filename=\"hierarchy.log\" ,level=logging.DEBUG, format='%(asctime)s - %(name)s - %(levelname)s - %(message)s')\n",
    "def exception_hierarchy(exceptions, level=0):\n",
    "    for exception in exceptions:\n",
    "        logging.basicConfig(level=logging.DEBUG, format='%(asctime)s - %(name)s - %(levelname)s - %(message)s')\n",
    "        exception_hierarchy(exception.__subclasses__(), level + 1)\n",
    "\n",
    "exception_hierarchy([BaseException])\n"
   ]
  },
  {
   "cell_type": "markdown",
   "id": "39129793-a8fa-4ecf-b13b-60df46bfd003",
   "metadata": {},
   "source": [
    "Q3. What errors are defined in the ArithmeticError class? Explain any two with an example.\n"
   ]
  },
  {
   "cell_type": "code",
   "execution_count": 1,
   "id": "2469c6f3-a839-46c7-b2d7-bafb47ed5cb9",
   "metadata": {},
   "outputs": [
    {
     "name": "stdout",
     "output_type": "stream",
     "text": [
      "Error: value too large\n"
     ]
    }
   ],
   "source": [
    "import math\n",
    "import logging\n",
    "logging.basicConfig(filename=\"Arithmetic.log\",level=logging.DEBUG,format='%(asctime)s - %(name)s - %(levelname)s - %(message)s')\n",
    "try:\n",
    "    x = math.exp(1000)\n",
    "except OverflowError as e:\n",
    "    logging.error(e)\n",
    "    print(\"Error: value too large\")\n"
   ]
  },
  {
   "cell_type": "markdown",
   "id": "927072c1-20a5-4d8e-b783-30177337dc19",
   "metadata": {},
   "source": [
    "Q4. Why LookupError class is used? Explain with an example KeyError and IndexError.\n"
   ]
  },
  {
   "cell_type": "markdown",
   "id": "4d1e213a-e67a-4d64-8718-e8ec1328ac27",
   "metadata": {},
   "source": [
    "Ans-\n",
    "\n",
    "The LookupError class is a built-in exception class in Python that serves as the base class for all built-in exceptions that occur when a key or index is not found during a lookup operation. "
   ]
  },
  {
   "cell_type": "code",
   "execution_count": 8,
   "id": "2cb55cb6-289a-4eee-aa32-88fbad94d2c4",
   "metadata": {},
   "outputs": [],
   "source": [
    "l=[1,2,3,4,5]\n",
    "import logging\n",
    "logging.basicConfig(filename=\"lookup.log\",level=logging.DEBUG,format='%(asctime)s - %(name)s - %(levelname)s - %(message)s')\n",
    "try:\n",
    "    value=l[6]\n",
    "except IndexError as e :\n",
    "    logging.error(e)\n",
    "\n"
   ]
  },
  {
   "cell_type": "markdown",
   "id": "d61c8667-1bec-4fcd-8d9b-f567e191c172",
   "metadata": {},
   "source": [
    "Q5. Explain ImportError. What is ModuleNotFoundError?\n"
   ]
  },
  {
   "cell_type": "markdown",
   "id": "688e7cab-f3b6-4852-bc76-f1889f78d300",
   "metadata": {},
   "source": [
    "Ans- \n",
    "\n",
    "ImportError is a built-in exception class in Python that is raised when an imported module or package cannot be found or loaded. \n",
    "\n",
    "A non existent module which does not exist. Since the module cannot be found, a ModuleNotFoundError will be raised"
   ]
  },
  {
   "cell_type": "markdown",
   "id": "9ea1c2a0-0fa7-48a6-a3ef-cb694e1163af",
   "metadata": {},
   "source": [
    "Q6. List down some best practices for exception handling in python."
   ]
  },
  {
   "cell_type": "markdown",
   "id": "7438f8e3-e719-4115-b6df-3ace3f28c341",
   "metadata": {},
   "source": [
    "1-Use the appropriate exception class\n",
    "\n",
    "2-Use try-except blocks sparingly\n",
    "\n",
    "3-Use finally blocks for cleanup\n",
    "\n",
    "4-specific with exception handling\n",
    "\n",
    "5-Log exceptions\n",
    "\n",
    "6-Reraise exceptions when appropriate"
   ]
  },
  {
   "cell_type": "code",
   "execution_count": null,
   "id": "a6773b30-932f-4efd-b6ae-ea97e90fcda9",
   "metadata": {},
   "outputs": [],
   "source": []
  }
 ],
 "metadata": {
  "kernelspec": {
   "display_name": "Python 3 (ipykernel)",
   "language": "python",
   "name": "python3"
  },
  "language_info": {
   "codemirror_mode": {
    "name": "ipython",
    "version": 3
   },
   "file_extension": ".py",
   "mimetype": "text/x-python",
   "name": "python",
   "nbconvert_exporter": "python",
   "pygments_lexer": "ipython3",
   "version": "3.10.8"
  }
 },
 "nbformat": 4,
 "nbformat_minor": 5
}
