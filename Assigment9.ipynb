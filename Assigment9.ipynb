{
 "cells": [
  {
   "cell_type": "markdown",
   "id": "73ed4410-817e-4c94-b611-07d7b83a39d8",
   "metadata": {},
   "source": [
    "Q1. What is Abstraction in OOps? Explain with an example."
   ]
  },
  {
   "cell_type": "markdown",
   "id": "eed520a2-2b31-46e8-b2b1-b62fabc9634b",
   "metadata": {},
   "source": [
    "Ans-\n",
    "\n",
    "ability to focus on the essential features of an object, ignoring all other non-essential details.\n",
    "In OOP, abstraction can be achieved through the use of abstract classes and interfaces. An abstract class is a class that cannot be instantiated on its own, but serves as a blueprint for other classes\n",
    "\n",
    "example of abstraction can be seen in a car. A car can be viewed as an abstract object with certain essential features such as wheels, an engine, and the ability to drive. These essential features are abstracted from the non-essential details such as the type of wheels, the size of the engine, and the specific mechanics of driving."
   ]
  },
  {
   "cell_type": "markdown",
   "id": "4f7acfdd-00a1-457d-8981-9fc4a4e142ba",
   "metadata": {},
   "source": [
    "Q2. Differentiate between Abstraction and Encapsulation. Explain with an example.\n"
   ]
  },
  {
   "cell_type": "markdown",
   "id": "f96ac19b-9ddd-49fc-87eb-0427d3090379",
   "metadata": {},
   "source": [
    "Ans-\n",
    "\n",
    "Abstraction - ability to focus on essential features of an object and ignore non-essential details. It provides a simplified view of the object, hiding its complexities and making it easier to understand and use.\n",
    "\n",
    "Encapsulation- refers to the wrapping of data and functions within an object. It creates a boundary around the data and functions, protecting them from outside influences and ensuring that they can only be accessed through the object's methods."
   ]
  },
  {
   "cell_type": "markdown",
   "id": "0e04758c-fc9a-4cb1-b015-659a51ea7a4b",
   "metadata": {},
   "source": [
    "Q3. What is abc module in python? Why is it used?\n"
   ]
  },
  {
   "cell_type": "markdown",
   "id": "d98ed73f-a264-4427-96f4-8f13446794fa",
   "metadata": {},
   "source": [
    "Ans-\n",
    "\n",
    "The abc module (abstract base classes) in Python is a module that provides support for defining abstract base classes.\n",
    "\n",
    "The main purpose of using abstract base classes is to define a common interface for a group of related classes, making it possible to write generic code that works with objects of those classes, regardless of their specific implementation."
   ]
  },
  {
   "cell_type": "markdown",
   "id": "6c67b35e-f218-4edd-9d12-d403abf8f1f0",
   "metadata": {},
   "source": [
    "Q4. How can we achieve data abstraction?\n"
   ]
  },
  {
   "cell_type": "markdown",
   "id": "6a2e304e-77c4-430c-bc8a-e1e35b031f26",
   "metadata": {},
   "source": [
    "Ans-\n",
    "\n",
    "abstraction is achieved through the use of objects and classes. An object is an instance of a class and represents a unit of data with its own attributes and methods. The attributes represent the data and the methods represent the operations that can be performed on the data. The implementation details of the data and the methods are encapsulated within the class, making it possible to hide them from the users of the object."
   ]
  },
  {
   "cell_type": "markdown",
   "id": "9cf790b8-a31e-4f11-96ca-8e3577418602",
   "metadata": {},
   "source": [
    "\n",
    "Q5. Can we create an instance of an abstract class? Explain your answer."
   ]
  },
  {
   "cell_type": "code",
   "execution_count": null,
   "id": "0344d50e-3488-47ea-a44e-9ca166508256",
   "metadata": {},
   "outputs": [],
   "source": []
  }
 ],
 "metadata": {
  "kernelspec": {
   "display_name": "Python 3 (ipykernel)",
   "language": "python",
   "name": "python3"
  },
  "language_info": {
   "codemirror_mode": {
    "name": "ipython",
    "version": 3
   },
   "file_extension": ".py",
   "mimetype": "text/x-python",
   "name": "python",
   "nbconvert_exporter": "python",
   "pygments_lexer": "ipython3",
   "version": "3.10.8"
  }
 },
 "nbformat": 4,
 "nbformat_minor": 5
}
