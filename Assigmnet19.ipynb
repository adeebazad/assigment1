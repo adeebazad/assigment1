{
 "cells": [
  {
   "cell_type": "markdown",
   "id": "02a0022c-e444-4850-b6e2-b96ad40b86d1",
   "metadata": {},
   "source": [
    "Q1. What is an API? Give an example, where an API is used in real life.\n"
   ]
  },
  {
   "cell_type": "markdown",
   "id": "76cbd923-6064-4deb-9199-7c6cbe0a4476",
   "metadata": {},
   "source": [
    "Ans-\n",
    "\n",
    "APIs are mechanisms that enable two software components to communicate with each other using a set of definitions and protocols. For example, the weather bureau’s software system contains daily weather data. The weather app on your phone “talks” to this system via APIs and shows you daily weather updates on your phone.\n",
    "\n",
    "API has three main functions in all its real-life applications.\n",
    "\n",
    "Searching, collecting & sharing data\n",
    "Reducing redundant work\n",
    "Empowering & collaboration\n"
   ]
  },
  {
   "cell_type": "markdown",
   "id": "ab703b30-7cc0-4d4d-b656-95d2bfbb0525",
   "metadata": {},
   "source": [
    "Q2. Give advantages and disadvantages of using API.\n"
   ]
  },
  {
   "cell_type": "markdown",
   "id": "56348ffd-c9f8-40db-a8a4-40c87fd06e27",
   "metadata": {},
   "source": [
    "Ans-\n",
    "\n",
    "advantages\n",
    "\n",
    "Internet-based connectivity\n",
    "Communication is two-way with confirmations included within the transaction sets\n",
    "Since communication is two-way APIs offer reliable transaction sets\n",
    "The end product offers user-friendly experiences improving internal and external user satisfaction\n",
    "Provides evolving functionality as developers find new uses for API exchanges\n",
    "\n",
    "disadvantages\n",
    "\n",
    "\n",
    "Implementing and providing API capabilities can be costly in terms of development times, ongoing maintenance requirements, and providing support.\n",
    "Scaling API requires extensive programming knowledge and the learning curve can fairly steep when understanding how to extend the capabilities of your API framework.\n",
    "Security can be a concern as APIs add another potential attack layer to programs/websites.\n"
   ]
  },
  {
   "cell_type": "markdown",
   "id": "e93c98d4-981a-4afe-abb7-6b84fc89c889",
   "metadata": {},
   "source": [
    "Q3. What is a Web API? Differentiate between API and Web API.\n"
   ]
  },
  {
   "cell_type": "markdown",
   "id": "e8341170-b921-4b79-8372-c82312a64f76",
   "metadata": {},
   "source": [
    "Ans-\n",
    "\n",
    "A web service typically offers a WSDL from which you can create client stubs automatically. Web Services are based on the SOAP protocol."
   ]
  },
  {
   "cell_type": "markdown",
   "id": "e56309b5-dc0b-4b9f-bf87-51398dc675b8",
   "metadata": {},
   "source": [
    "Q4. Explain REST and SOAP Architecture. Mention shortcomings of SOAP.\n"
   ]
  },
  {
   "cell_type": "markdown",
   "id": "23ac3d86-1044-4c0a-8146-0ef72cc9bf4e",
   "metadata": {},
   "source": [
    "Ans-\n",
    "\n",
    "REST (Representational State Transfer) is an architectural style for services, and as such it defines a set of architectural constraints and agreements. A service, which complies with the REST constraints, is said to be RESTful.\n",
    "\n",
    "SOAP follows the RPC style (see previous section) and exposes procedures as central concepts (e.g. getCustomer). It is standardized by the W3C and is the most widely used protocol for web services. SOAP style architectures are in widespread use, however, typically only for company internal use or for services called by trusted partners."
   ]
  },
  {
   "cell_type": "markdown",
   "id": "ebf9b10a-e3d5-499b-8e94-9952867615c1",
   "metadata": {},
   "source": [
    "Q5. Differentiate between REST and SOAP."
   ]
  },
  {
   "cell_type": "markdown",
   "id": "b403b37f-5c46-4580-9ebe-945ca16e2520",
   "metadata": {},
   "source": [
    "Ans-\n",
    "\n",
    "        \n",
    "SOAP is a protocol.  \t                                              REST is an architectural style.\n",
    "\n",
    "\n",
    "SOAP stands for Simple Object Access Protocol.\t                      REST stands for REpresentational State Transfer.\n",
    "\n",
    "\n",
    "SOAP can't use REST because it is a protocol.\t                      REST can use SOAP web services because it is a concept and can use any                                                                                 protocol like HTTP, SOAP.\n",
    "\n",
    "\n",
    "SOAP uses services interfaces to expose the business logic.           REST uses URI to expose business logic."
   ]
  },
  {
   "cell_type": "code",
   "execution_count": null,
   "id": "f4169fa7-9a85-4b04-81cc-536985f69dcb",
   "metadata": {},
   "outputs": [],
   "source": []
  }
 ],
 "metadata": {
  "kernelspec": {
   "display_name": "Python 3 (ipykernel)",
   "language": "python",
   "name": "python3"
  },
  "language_info": {
   "codemirror_mode": {
    "name": "ipython",
    "version": 3
   },
   "file_extension": ".py",
   "mimetype": "text/x-python",
   "name": "python",
   "nbconvert_exporter": "python",
   "pygments_lexer": "ipython3",
   "version": "3.10.8"
  }
 },
 "nbformat": 4,
 "nbformat_minor": 5
}
