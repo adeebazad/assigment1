{
 "cells": [
  {
   "cell_type": "markdown",
   "id": "1358868c-8c9e-4444-88b4-e5fdd7f95cc4",
   "metadata": {},
   "source": [
    "Q1. You are writing code for a company. The requirement of the company is that you create a python\n",
    "function that will check whether the password entered by the user is correct or not. The function should\n",
    "take the password as input and return the string “Valid Password” if the entered password follows the\n",
    "below-given password guidelines else it should return “Invalid Password”.\n",
    "Note:\n",
    "\n",
    "1. The Password should contain at least two uppercase letters and at least two lowercase letters.\n",
    "2. The Password should contain at least a number and three special characters.\n",
    "3. The length of the password should be 10 characters long."
   ]
  },
  {
   "cell_type": "code",
   "execution_count": 109,
   "id": "19d3acd9-f878-4a6f-880d-eee6d295e743",
   "metadata": {},
   "outputs": [],
   "source": [
    "\n",
    "def check_passward(passwrd):\n",
    "    num=0\n",
    "    lower=0\n",
    "    upper=0\n",
    "    spel=0\n",
    "    flag=False\n",
    "    special_characters = \"!@#$%^&*\"\n",
    "    if len (passwrd)!=10:\n",
    "        flag=False\n",
    "    for i in passwrd:\n",
    "        if i.isupper():\n",
    "            upper=upper+1\n",
    "        elif i.islower():\n",
    "            lower=lower+1\n",
    "        elif i in special_characters:\n",
    "            spel=spel+1\n",
    "        elif i.isdigit:\n",
    "            num=num+1\n",
    "    if upper<2 or lower<2 or spel < 3 or num <1:\n",
    "        flag=False\n",
    "    else :\n",
    "        flag=True\n",
    "    if flag==True :\n",
    "        print (\"valid\")\n",
    "    else:\n",
    "        print(\"Invalid\")\n",
    "        \n",
    "            "
   ]
  },
  {
   "cell_type": "code",
   "execution_count": 110,
   "id": "4d06b35e-b58b-4297-abf7-b5cab3ec5d34",
   "metadata": {},
   "outputs": [
    {
     "name": "stdin",
     "output_type": "stream",
     "text": [
      "enter your passward  AzadAd@@@2\n"
     ]
    },
    {
     "name": "stdout",
     "output_type": "stream",
     "text": [
      "valid\n"
     ]
    }
   ],
   "source": [
    "passward=input(\"enter your passward \")\n",
    "checkpassward=check_passward(passward)"
   ]
  },
  {
   "cell_type": "markdown",
   "id": "5a2e3fab-4839-4016-9313-46d7048ccaa8",
   "metadata": {},
   "source": [
    "Q2. Solve the below-given questions using at least one of the following:\n",
    "1. Lambda functio\n",
    "2. Filter functio\n",
    "3. Map functio\n",
    "4. List Comprehension\n",
    "\n",
    "=>Check if the string starts with a particular letter\n",
    "\n",
    "=> Check if the string is numeric\n",
    "\n",
    "=> Sort a list of tuples having fruit names and their quantity. [(\"mango\",99),(\"orange\",80), (\"grapes\", 1000)\n",
    "\n",
    "=> Find the squares of numbers from 1 to 10\n",
    "\n",
    "=> Find the cube root of numbers from 1 to 10\n",
    "\n",
    "=> Check if a given number is evenY\n",
    "\n",
    "=> Filter odd numbers from the given list.\n",
    "[1,2,3,4,5,6,7,8,9,10]\n",
    "\n",
    "=> Sort a list of integers into positive and negative integers lists.\n",
    "[1,2,3,4,5,6,-1,-2,-3,-4,-5,0]"
   ]
  },
  {
   "cell_type": "code",
   "execution_count": 22,
   "id": "af40a60a-4f68-40b0-9379-cbe7a2f3c2c2",
   "metadata": {},
   "outputs": [
    {
     "name": "stdout",
     "output_type": "stream",
     "text": [
      "False\n"
     ]
    }
   ],
   "source": [
    "#Check if the string starts with a particular letter\n",
    "string=\"data science \"\n",
    "letter=\"d\"\n",
    "startwith=lambda string,letter:string.startswith(letter)\n",
    "print (startwith(string,letter))"
   ]
  },
  {
   "cell_type": "code",
   "execution_count": 23,
   "id": "641c9647-01ad-47d5-b600-eac1ead2fa93",
   "metadata": {},
   "outputs": [
    {
     "name": "stdout",
     "output_type": "stream",
     "text": [
      "True\n"
     ]
    }
   ],
   "source": [
    "#heck if the string is numeric\n",
    "numer=\"123456789\"\n",
    "check=lambda x:x.isdigit() \n",
    "print (check(numer))\n"
   ]
  },
  {
   "cell_type": "code",
   "execution_count": 25,
   "id": "0dccf568-9a6e-462a-b1c9-30fc3e11ff8b",
   "metadata": {},
   "outputs": [
    {
     "name": "stdout",
     "output_type": "stream",
     "text": [
      "[('orange', 80), ('mango', 99), ('grapes', 1000)]\n"
     ]
    }
   ],
   "source": [
    "#Sort a list of tuples having fruit names and their quantity. [(\"mango\",99),(\"orange\",80), (\"grapes\", 1000)\n",
    "fruit_list=[(\"mango\",99),(\"orange\",80), (\"grapes\", 1000)]\n",
    "sort_fruit=sorted(fruit_list,key=lambda x:x[1])\n",
    "print (sort_fruit)"
   ]
  },
  {
   "cell_type": "code",
   "execution_count": 43,
   "id": "c6875c56-0311-409f-9a35-7e005440f07b",
   "metadata": {},
   "outputs": [
    {
     "name": "stdout",
     "output_type": "stream",
     "text": [
      "[1, 4, 9, 16, 25, 36, 49, 64, 81, 100]\n"
     ]
    }
   ],
   "source": [
    "#-Find the squares of numbers from 1 to 10\n",
    "\n",
    "sq=[i**2 for i in range (1,11)]\n",
    "print (sq)"
   ]
  },
  {
   "cell_type": "code",
   "execution_count": 45,
   "id": "62cd9ef0-b0ba-48eb-87d0-c849f816cb50",
   "metadata": {},
   "outputs": [
    {
     "name": "stdout",
     "output_type": "stream",
     "text": [
      "[1, 8, 27, 64, 125, 216, 343, 512, 729, 1000]\n"
     ]
    }
   ],
   "source": [
    "#Find the cube root of numbers from 1 to 10.\n",
    "cube=[i**3 for i in range(1,11)]\n",
    "print (cube)"
   ]
  },
  {
   "cell_type": "code",
   "execution_count": 56,
   "id": "e77eef8f-9868-4386-975e-7f9b7e72fa5d",
   "metadata": {},
   "outputs": [
    {
     "name": "stdin",
     "output_type": "stream",
     "text": [
      "enter the number: 4\n"
     ]
    },
    {
     "name": "stdout",
     "output_type": "stream",
     "text": [
      "the number 4 is even ? True\n"
     ]
    }
   ],
   "source": [
    "#Check if a given number is even.\n",
    "num=int(input(\"enter the number:\"))\n",
    "check_even=lambda x:x%2==0 \n",
    "print (\"the number\",num,\"is even ?\",check_even(num))"
   ]
  },
  {
   "cell_type": "code",
   "execution_count": 59,
   "id": "3f5c5b23-fcfc-480c-bd33-51c2cd15ed84",
   "metadata": {},
   "outputs": [
    {
     "name": "stdout",
     "output_type": "stream",
     "text": [
      "[1, 3, 5, 7, 9]\n"
     ]
    }
   ],
   "source": [
    "#Filter odd numbers from the given list.\n",
    "l1=[1,2,3,4,5,6,7,8,9,10]\n",
    "filter_odd=list (filter(lambda x:x%2!=0,l1))\n",
    "print (filter_odd)"
   ]
  },
  {
   "cell_type": "code",
   "execution_count": 64,
   "id": "a67b6edb-18ce-46bc-a2b1-f598b43589ee",
   "metadata": {},
   "outputs": [
    {
     "name": "stdout",
     "output_type": "stream",
     "text": [
      "negative= [-1, -2, -3, -4, -5] positive= [1, 2, 3, 4, 5, 6]\n"
     ]
    }
   ],
   "source": [
    "#Sort a list of integers into positive and negative integers lists.\n",
    "l2=[1,2,3,4,5,6,-1,-2,-3,-4,-5,0]\n",
    "pos_list=list(filter(lambda x:x>0,l2))\n",
    "neg_lis=list(filter(lambda x:x<0,l2))\n",
    "print (\"negative=\",neg_lis,\"positive=\",pos_list)"
   ]
  },
  {
   "cell_type": "code",
   "execution_count": null,
   "id": "638ddf41-4582-4b1f-9a00-67a7c03488d9",
   "metadata": {},
   "outputs": [],
   "source": []
  }
 ],
 "metadata": {
  "kernelspec": {
   "display_name": "Python 3 (ipykernel)",
   "language": "python",
   "name": "python3"
  },
  "language_info": {
   "codemirror_mode": {
    "name": "ipython",
    "version": 3
   },
   "file_extension": ".py",
   "mimetype": "text/x-python",
   "name": "python",
   "nbconvert_exporter": "python",
   "pygments_lexer": "ipython3",
   "version": "3.10.8"
  }
 },
 "nbformat": 4,
 "nbformat_minor": 5
}
