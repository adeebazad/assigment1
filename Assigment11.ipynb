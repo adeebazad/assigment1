{
 "cells": [
  {
   "cell_type": "markdown",
   "id": "abd6c238-8686-45c0-aeec-0210755e7b83",
   "metadata": {},
   "source": [
    "Q1. Which function is used to open a file? What are the different modes of opening a file? Explain each mode\n",
    "of file opening."
   ]
  },
  {
   "cell_type": "markdown",
   "id": "bb599597-be75-4b83-9c2a-906e6270941c",
   "metadata": {},
   "source": [
    "Ans-\n",
    "\n",
    "In Python, the built-in open() function is used to open a file. The function takes two mandatory arguments: the file name and the mode in which the file is opened.\n",
    "\n",
    "'r' (Read Only): This is the default mode and it is used to open a file for reading. If the file does not exist, an error is raised.\n",
    "\n",
    "'w' (Write Only): This mode is used to open a file for writing. If the file already exists, its content will be truncated (deleted). If the file does not exist, it will be created.\n",
    "\n",
    "'a' (Append Only): This mode is used to open a file for writing, but unlike the 'w' mode, it will not truncate the content of an existing file. Instead, it will append the data to the end of the file. If the file does not exist, it will be created.\n",
    "\n",
    "'x' (Write and Create): This mode is used to create a file. If the file already exists, an error is raised. This mode is useful when you want to make sure that a file is created only once and not overwritten by any means.\n",
    "\n",
    "'b' (Binary): This mode is used to open a file in binary mode. It is used to work with non-text files such as images, audio, or video.\n",
    "\n",
    "'t' (Text): This mode is used to open a file in text mode. This is the default mode, so if you don't specify the mode, it will be opened as text by default."
   ]
  },
  {
   "cell_type": "markdown",
   "id": "e45e1889-9581-428c-9ac4-c9caae2b24cd",
   "metadata": {},
   "source": [
    "Q2. Why close() function is used? Why is it important to close a file?\n"
   ]
  },
  {
   "cell_type": "markdown",
   "id": "93edabc5-4c88-4b11-a7e6-b3aff1aa4a3c",
   "metadata": {},
   "source": [
    "Ans-\n",
    "\n",
    "The close() function is used to close a file after it has been opened and used.\n",
    "\n",
    "Closing a file is an important step in file operations as it frees up resources and makes sure that the changes made to the file are saved to the disk."
   ]
  },
  {
   "cell_type": "code",
   "execution_count": null,
   "id": "9ae99fb2-157d-4bd8-9d11-d78d2d8efb6e",
   "metadata": {},
   "outputs": [],
   "source": []
  },
  {
   "cell_type": "markdown",
   "id": "09b01f1f-7c26-4037-9421-7ea34bf7c545",
   "metadata": {},
   "source": [
    "Q3. Write a python program to create a text file. Write ‘I want to become a Data Scientist’ in that file. Then\n",
    "close the file. Open this file and read the content of the file.\n"
   ]
  },
  {
   "cell_type": "code",
   "execution_count": 10,
   "id": "50ba9e5e-f04f-4ba9-a513-eb8adc4f06c3",
   "metadata": {},
   "outputs": [],
   "source": [
    "file = open(\"file.text\",\"w\")\n",
    "file.write(\"I want to become a Data Scientist \\n\")\n",
    "file.write(\"\")\n",
    "file.write(\"I want to become a Data analyst \\n\")\n",
    "file.close()"
   ]
  },
  {
   "cell_type": "code",
   "execution_count": 11,
   "id": "6ce6a798-d915-4d97-982c-26899508a0dd",
   "metadata": {},
   "outputs": [
    {
     "name": "stdout",
     "output_type": "stream",
     "text": [
      "I want to become a Data Scientist \n",
      "I want to become a Data analyst \n",
      "\n"
     ]
    }
   ],
   "source": [
    "file =open(\"file.text\",\"r\")\n",
    "written=file.read()\n",
    "file.close()\n",
    "print(written)"
   ]
  },
  {
   "cell_type": "markdown",
   "id": "9a6db644-9c4a-4088-9d28-e67dee17aef9",
   "metadata": {},
   "source": [
    "Q4. Explain the following with python code: read(), readline() and readlines().\n"
   ]
  },
  {
   "cell_type": "markdown",
   "id": "e8beb0e1-7b78-4b0c-a3bb-6bf1a090685e",
   "metadata": {},
   "source": [
    "Ans-\n",
    "\n",
    "read(): This function is used to read the entire content of a file. The function returns the content of the file as a string.\n"
   ]
  },
  {
   "cell_type": "code",
   "execution_count": 7,
   "id": "8467b127-70f2-425c-910e-9bc90c3ad9dc",
   "metadata": {},
   "outputs": [
    {
     "name": "stdout",
     "output_type": "stream",
     "text": [
      "I want to become a Data Scientist\n"
     ]
    }
   ],
   "source": [
    "file=open(\"file.text\",\"r\")\n",
    "data=file.read()\n",
    "file.close()\n",
    "print(data)"
   ]
  },
  {
   "cell_type": "markdown",
   "id": "32592856-0c25-41cc-9ee6-374c297d36bd",
   "metadata": {},
   "source": [
    "readline(): This function is used to read a single line from a file. Each time you call the readline() function, it returns the next line in the file until the end of the file is reached."
   ]
  },
  {
   "cell_type": "code",
   "execution_count": 14,
   "id": "edb56e3c-ae03-4c21-a12f-d8d01344d99b",
   "metadata": {},
   "outputs": [
    {
     "name": "stdout",
     "output_type": "stream",
     "text": [
      "I want to become a Data Scientist \n",
      "\n",
      "I want to become a Data analyst \n",
      "\n"
     ]
    }
   ],
   "source": [
    "file=open(\"file.text\",\"r\")\n",
    "data= file.readline()\n",
    "print (data)\n",
    "data = file.readline()\n",
    "print (data)\n",
    "file.close()"
   ]
  },
  {
   "cell_type": "markdown",
   "id": "705541a8-0440-4add-9534-787759cdeddb",
   "metadata": {},
   "source": [
    "readlines(): This function is used to read all the lines of a file and return them as a list of strings. Each element of the list represents a line in the file."
   ]
  },
  {
   "cell_type": "code",
   "execution_count": 15,
   "id": "ae690c2a-9c32-4243-9d49-8fe5f14e16d6",
   "metadata": {},
   "outputs": [
    {
     "name": "stdout",
     "output_type": "stream",
     "text": [
      "['I want to become a Data Scientist \\n', 'I want to become a Data analyst \\n']\n",
      "['I want to become a Data Scientist \\n', 'I want to become a Data analyst \\n']\n"
     ]
    }
   ],
   "source": [
    "file=open(\"file.text\",\"r\")\n",
    "lines= file.readlines()\n",
    "file.close()\n",
    "for i in lines :\n",
    "    print (lines)"
   ]
  },
  {
   "cell_type": "markdown",
   "id": "4672956f-845f-4931-aa6a-4d78ef42a7d8",
   "metadata": {},
   "source": [
    "Q5. Explain why with statement is used with open(). What is the advantage of using with statement and\n",
    "open() together?\n"
   ]
  },
  {
   "cell_type": "markdown",
   "id": "5a306edc-4c42-4c93-a5d6-87fa909f52d9",
   "metadata": {},
   "source": [
    "Ans-\n",
    "\n",
    "the with statement in Python is used to wrap the execution of a block of code with a specified context. In the context of working with files, the with statement is often used in conjunction with the open() function to ensure that the file is properly closed after the block of code is executed, even if an exception occurs during the execution of the code.\n",
    "\n",
    "Advantages\n",
    "\n",
    "(i)-function is that it ensures that the file will be closed automatically after the block of code is executed, even if an exception occurs. \n",
    "(ii)-This helps to prevent file leaks\n",
    "(iii)- prevent file leaks, which can occur if the file is not closed properly and the file descriptor remains open"
   ]
  },
  {
   "cell_type": "markdown",
   "id": "e2fcea60-d19b-474f-ad7a-957d72a3daaa",
   "metadata": {},
   "source": [
    "Q6. Explain the write() and writelines() functions. Give a suitable example."
   ]
  },
  {
   "cell_type": "markdown",
   "id": "b4edd409-e007-4376-9b50-febd78b13328",
   "metadata": {},
   "source": [
    "Ans-\n",
    "\n",
    "The write() function in Python is used to write a string to a file. It takes a single argument, which is the string to be written to the file.\n",
    "\n",
    "The writelines() function in Python is used to write a list of strings to a file. It takes a single argument, which is the list of strings to be written to the file."
   ]
  },
  {
   "cell_type": "code",
   "execution_count": 16,
   "id": "ff7d77ed-2dc1-496f-8319-0a161e274d96",
   "metadata": {},
   "outputs": [],
   "source": [
    "file = open(\"file.text\",\"w\")\n",
    "file.write(\"I want to become a Data Scientist \\n\")\n",
    "file.write(\"I want to become a Data analyst \\n\")\n",
    "file.close()"
   ]
  },
  {
   "cell_type": "code",
   "execution_count": 18,
   "id": "a3617334-a2eb-4e51-8a77-d269ca0d40f3",
   "metadata": {},
   "outputs": [],
   "source": [
    "file = open(\"file.txt\", \"w\")\n",
    "lines = [\"i am  1\\n\", \"attending 2\\n\", \"classes regularly 3\\n\"]\n",
    "file.writelines(lines)\n",
    "file.close()"
   ]
  },
  {
   "cell_type": "code",
   "execution_count": null,
   "id": "74310643-01c9-4c10-8ab1-09a2b4bc7d11",
   "metadata": {},
   "outputs": [],
   "source": []
  }
 ],
 "metadata": {
  "kernelspec": {
   "display_name": "Python 3 (ipykernel)",
   "language": "python",
   "name": "python3"
  },
  "language_info": {
   "codemirror_mode": {
    "name": "ipython",
    "version": 3
   },
   "file_extension": ".py",
   "mimetype": "text/x-python",
   "name": "python",
   "nbconvert_exporter": "python",
   "pygments_lexer": "ipython3",
   "version": "3.10.8"
  }
 },
 "nbformat": 4,
 "nbformat_minor": 5
}
