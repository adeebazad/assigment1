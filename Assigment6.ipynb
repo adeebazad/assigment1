{
 "cells": [
  {
   "cell_type": "markdown",
   "id": "eaea912e-9b2d-46ee-9fa3-995289a82d25",
   "metadata": {},
   "source": [
    "Q1. Explain Class and Object with respect to Object-Oriented Programming. Give a suitable example.\n"
   ]
  },
  {
   "cell_type": "markdown",
   "id": "bda8391a-a9cc-404d-9ad4-879fda7b7809",
   "metadata": {},
   "source": [
    "Ans-\n",
    "Class and Object are fundamental concepts in Object-Oriented Programming (OOP).\n",
    "\n",
    "A class is a blueprint or a template for creating objects, which can contain properties (data) and methods (functions). It acts as a blueprint for objects, defining the data and behavior of all objects created from the class.\n",
    "\n",
    "An object is an instance of a class, created at runtime. It has its own properties and methods, which can be accessed and manipulated. An object can be thought of as a specific occurrence of a class, with its own data.\n",
    "\n",
    "Example:\n",
    "Consider a class \"Car\". The class \"Car\" could have properties such as make, model, year, color, etc. The class \"Car\" could also have methods such as start(), stop(), drive(), etc.\n",
    "\n",
    "Now we can create objects from the class \"Car\", for example, \"sedan\", \"SUV\", \"hatchback\", etc. Each object will have its own values for properties like make, model, year, color, etc. and can perform the actions defined in the class methods."
   ]
  },
  {
   "cell_type": "markdown",
   "id": "bdd3bb03-127a-42f9-9e52-04c1c5fcc5f5",
   "metadata": {},
   "source": [
    "Q2. Name the four pillars of OOPs.\n"
   ]
  },
  {
   "cell_type": "markdown",
   "id": "95c17f84-e9a8-472c-b55a-a136fa8fa651",
   "metadata": {},
   "source": [
    "Ans-\n",
    "The four pillars of Object-Oriented Programming (OOP) are:\n",
    "\n",
    "Abstraction: It allows hiding the implementation details and providing only relevant information to the user.\n",
    "Encapsulation: It is the mechanism of wrapping the data (attributes) and the functions (methods) operating on the data within the same unit.\n",
    "Inheritance: It is a mechanism of acquiring properties and behavior of a parent class in a derived class.\n",
    "Polymorphism: It is the ability of an object to take on multiple forms. In OOP, polymorphism refers to the use of a single function or operator to perform operations with different types of objects."
   ]
  },
  {
   "cell_type": "markdown",
   "id": "0a2d5e95-f6f5-4173-baa1-4ad3e1b5adda",
   "metadata": {},
   "source": [
    "Q3. Explain why the __init__() function is used. Give a suitable example.\n"
   ]
  },
  {
   "cell_type": "markdown",
   "id": "ffca0e42-a1a3-47b9-bcb9-faee59b1d8db",
   "metadata": {},
   "source": [
    "Ans-\n",
    "\n",
    "The __init__ function is a special method in Python classes, known as the constructor method. It is executed automatically whenever an object of that class is created, and is used to initialize the object's attributes or properties.\n"
   ]
  },
  {
   "cell_type": "code",
   "execution_count": 4,
   "id": "d6561c92-21ac-43d8-8161-22437cb71b6e",
   "metadata": {},
   "outputs": [],
   "source": [
    "class Person:\n",
    "    def __init__(self, name, age):\n",
    "        self.name = name\n",
    "        self.age = age\n",
    "\n",
    "p1 = Person(\"John\", 30)\n",
    "p2 = Person(\"Jane\", 25)\n"
   ]
  },
  {
   "cell_type": "markdown",
   "id": "95e05662-4a68-40ba-97ab-76e992c5daf2",
   "metadata": {},
   "source": [
    "Q4. Why self is used in OOPs?\n"
   ]
  },
  {
   "cell_type": "markdown",
   "id": "23ce1020-7c56-4b75-a704-d34ca71851a3",
   "metadata": {},
   "source": [
    "Ans-\n",
    "\n",
    "object is created from a class, self refers to the object being created. By using self, we can access the attributes and methods of the object from within the class"
   ]
  },
  {
   "cell_type": "markdown",
   "id": "fece2928-b78d-429a-a13b-1b9e85ab9fa1",
   "metadata": {},
   "source": [
    "Q5. What is inheritance? Give an example for each type of inheritance."
   ]
  },
  {
   "cell_type": "markdown",
   "id": "e744fce9-cb04-4d26-b933-be0cf6f6f851",
   "metadata": {},
   "source": [
    "Ans-\n",
    "Inheritance is a mechanism in Object-Oriented Programming (OOP) that allows a derived class to inherit properties and behavior from a base class."
   ]
  },
  {
   "cell_type": "code",
   "execution_count": 7,
   "id": "f1dd4f09-880d-4dc4-9ef3-b988f22f00fd",
   "metadata": {},
   "outputs": [
    {
     "name": "stdout",
     "output_type": "stream",
     "text": [
      "animal speaking \n",
      "meow...mewow\n"
     ]
    }
   ],
   "source": [
    "class Animal :\n",
    "    def speak(self):\n",
    "        print(\"animal speaking \")\n",
    "class Cat (Animal):\n",
    "    def cute(self):\n",
    "        print (\"meow...mewow\")\n",
    "c=Cat()\n",
    "c.speak()\n",
    "c.cute()"
   ]
  },
  {
   "cell_type": "code",
   "execution_count": null,
   "id": "2a1069d6-a08c-4be0-aabd-55d0ffef698d",
   "metadata": {},
   "outputs": [],
   "source": []
  },
  {
   "cell_type": "code",
   "execution_count": null,
   "id": "376fc1b2-8cd1-4b15-979c-c3fb677911f2",
   "metadata": {},
   "outputs": [],
   "source": []
  }
 ],
 "metadata": {
  "kernelspec": {
   "display_name": "Python 3 (ipykernel)",
   "language": "python",
   "name": "python3"
  },
  "language_info": {
   "codemirror_mode": {
    "name": "ipython",
    "version": 3
   },
   "file_extension": ".py",
   "mimetype": "text/x-python",
   "name": "python",
   "nbconvert_exporter": "python",
   "pygments_lexer": "ipython3",
   "version": "3.10.8"
  }
 },
 "nbformat": 4,
 "nbformat_minor": 5
}
