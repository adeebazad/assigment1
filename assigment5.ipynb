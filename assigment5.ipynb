{
 "cells": [
  {
   "cell_type": "markdown",
   "id": "0c549eb3-d75a-4910-a126-a7d6042b6b15",
   "metadata": {},
   "source": [
    "Q1. Create a python program to sort the given list of tuples based on integer value using a\n",
    "lambda function.\n",
    "[('Sachin Tendulkar', 34357), ('Ricky Ponting', 27483), ('Jack Kallis', 25534), ('Virat Kohli', 24936)]"
   ]
  },
  {
   "cell_type": "code",
   "execution_count": 1,
   "id": "de43839f-477f-401a-b6fb-f830a37dd2c2",
   "metadata": {},
   "outputs": [],
   "source": [
    "l=[('Sachin Tendulkar', 34357), ('Ricky Ponting', 27483), ('Jack Kallis', 25534), ('Virat Kohli', 24936)]"
   ]
  },
  {
   "cell_type": "code",
   "execution_count": 9,
   "id": "9678da6f-c92c-47fb-900a-d46096db7896",
   "metadata": {},
   "outputs": [
    {
     "name": "stdout",
     "output_type": "stream",
     "text": [
      "[('Virat Kohli', 24936), ('Jack Kallis', 25534), ('Ricky Ponting', 27483), ('Sachin Tendulkar', 34357)]\n"
     ]
    }
   ],
   "source": [
    "print(( sorted(l,key=lambda x:x[1])))"
   ]
  },
  {
   "cell_type": "markdown",
   "id": "f8a00be3-8195-4eb1-889c-72a0ce993b2f",
   "metadata": {},
   "source": [
    "Q2. Write a Python Program to find the squares of all the numbers in the given list of integers using\n",
    "lambda and map functions.\n",
    "[1, 2, 3, 4, 5, 6, 7, 8, 9, 10]"
   ]
  },
  {
   "cell_type": "code",
   "execution_count": 10,
   "id": "dec4fd8d-b20d-4f50-9599-b3766b0ddbf9",
   "metadata": {},
   "outputs": [],
   "source": [
    "l2=[1, 2, 3, 4, 5, 6, 7, 8, 9, 10]"
   ]
  },
  {
   "cell_type": "code",
   "execution_count": 39,
   "id": "e3541960-cf30-41b9-bb19-becb0a060c4c",
   "metadata": {},
   "outputs": [],
   "source": [
    "a=lambda x:x**2"
   ]
  },
  {
   "cell_type": "code",
   "execution_count": 44,
   "id": "a4fe6ace-6c42-4d33-be26-cd37ad0d43be",
   "metadata": {},
   "outputs": [
    {
     "data": {
      "text/plain": [
       "[1, 4, 9, 16, 25, 36, 49, 64, 81, 100]"
      ]
     },
     "execution_count": 44,
     "metadata": {},
     "output_type": "execute_result"
    }
   ],
   "source": [
    "[a(i) for i in l2 ]"
   ]
  },
  {
   "cell_type": "markdown",
   "id": "ce8b83f9-841c-4631-aee4-2984fa1662a3",
   "metadata": {},
   "source": [
    "Q3. Write a python program to convert the given list of integers into a tuple of strings. Use map and\n",
    "lambda functions\n",
    "Given String: [1, 2, 3, 4, 5, 6, 7, 8, 9, 10]\n",
    "Expected output: ('1', '2', '3', '4', '5', '6', '7', '8', '9', '10')"
   ]
  },
  {
   "cell_type": "code",
   "execution_count": 117,
   "id": "0d45e036-c7d9-4836-97d4-5d1d0677701e",
   "metadata": {},
   "outputs": [],
   "source": [
    "l3=[1, 2, 3, 4, 5, 6, 7, 8, 9, 10]\n"
   ]
  },
  {
   "cell_type": "code",
   "execution_count": 150,
   "id": "ea732832-d766-457a-a3f0-b82c6d343072",
   "metadata": {},
   "outputs": [
    {
     "name": "stdout",
     "output_type": "stream",
     "text": [
      "('1', '2', '3', '4', '5', '6', '7', '8', '9', '10')\n"
     ]
    }
   ],
   "source": [
    "stringtuple=tuple(map(lambda x:str(x),l3))\n",
    "print (stringtuple)"
   ]
  },
  {
   "cell_type": "markdown",
   "id": "b4c94b5c-af16-4d9e-864e-9764ec56f0e7",
   "metadata": {},
   "source": [
    "Q4. Write a python program using reduce function to compute the product of a list containing numbers\n",
    "from 1 to 25."
   ]
  },
  {
   "cell_type": "code",
   "execution_count": 158,
   "id": "674dd15d-f5bb-44ea-a7b1-727325baa084",
   "metadata": {},
   "outputs": [],
   "source": [
    "l=list(range(1, 26))\n",
    "from functools import reduce"
   ]
  },
  {
   "cell_type": "code",
   "execution_count": 159,
   "id": "aec0a4cf-db27-4aa0-9d32-ebf3e3c189c0",
   "metadata": {},
   "outputs": [
    {
     "data": {
      "text/plain": [
       "15511210043330985984000000"
      ]
     },
     "execution_count": 159,
     "metadata": {},
     "output_type": "execute_result"
    }
   ],
   "source": [
    "reduce(lambda x,y:x*y,l)"
   ]
  },
  {
   "cell_type": "markdown",
   "id": "03b11e0b-bf3c-4cc9-9956-fe61deb471c6",
   "metadata": {},
   "source": [
    "Q5. Write a python program to filter the numbers in a given list that are divisible by 2 and 3 using the\n",
    "filter function.\n",
    "[2, 3, 6, 9, 27, 60, 90, 120, 55, 46]"
   ]
  },
  {
   "cell_type": "code",
   "execution_count": 161,
   "id": "b164bfb6-b2e5-4c1f-b455-a18b69f0285b",
   "metadata": {},
   "outputs": [
    {
     "data": {
      "text/plain": [
       "[2, 3, 6, 9, 27, 60, 90, 120, 46]"
      ]
     },
     "execution_count": 161,
     "metadata": {},
     "output_type": "execute_result"
    }
   ],
   "source": [
    "l2=[2, 3, 6, 9, 27, 60, 90, 120, 55, 46]\n",
    "list(filter(lambda x: x%2==0 or x%3==0,l2))"
   ]
  },
  {
   "cell_type": "markdown",
   "id": "a76e7e86-c0b2-4b0a-9dd0-e86a45c246d2",
   "metadata": {},
   "source": [
    "Q6. Write a python program to find palindromes in the given list of strings using lambda and filter\n",
    "function.\n",
    "['python', 'php', 'aba', 'radar', 'level']"
   ]
  },
  {
   "cell_type": "code",
   "execution_count": 166,
   "id": "76f348d8-0a1f-4400-90ba-18ba30748234",
   "metadata": {},
   "outputs": [],
   "source": [
    "string=['python', 'php', 'aba', 'radar', 'level']\n",
    "pallindrom=list(filter (lambda x:x==x[::-1],string))"
   ]
  },
  {
   "cell_type": "code",
   "execution_count": 167,
   "id": "db88423a-ed8b-4f5e-a159-c2cb0d170162",
   "metadata": {},
   "outputs": [
    {
     "data": {
      "text/plain": [
       "['php', 'aba', 'radar', 'level']"
      ]
     },
     "execution_count": 167,
     "metadata": {},
     "output_type": "execute_result"
    }
   ],
   "source": [
    "pallindrom"
   ]
  },
  {
   "cell_type": "code",
   "execution_count": null,
   "id": "df4d74c5-3bf7-41f8-802c-d4ef9099cbe5",
   "metadata": {},
   "outputs": [],
   "source": []
  }
 ],
 "metadata": {
  "kernelspec": {
   "display_name": "Python 3 (ipykernel)",
   "language": "python",
   "name": "python3"
  },
  "language_info": {
   "codemirror_mode": {
    "name": "ipython",
    "version": 3
   },
   "file_extension": ".py",
   "mimetype": "text/x-python",
   "name": "python",
   "nbconvert_exporter": "python",
   "pygments_lexer": "ipython3",
   "version": "3.10.8"
  }
 },
 "nbformat": 4,
 "nbformat_minor": 5
}
