{
 "cells": [
  {
   "cell_type": "markdown",
   "id": "692c665b-a1fd-48ff-b6d1-00306f504c25",
   "metadata": {},
   "source": [
    "Q1. Create a function which will take a list as an argument and return the product of all the numbers\n",
    "after creating a flat list.\n",
    "Use the below-given list as an argument for your function.\n",
    "list1 = [1,2,3,4, [44,55,66, True], False, (34,56,78,89,34), {1,2,3,3,2,1}, {1:34, \"key2\": [55, 67, 78, 89], 4: (45,\n",
    "22, 61, 34)}, [56, 'data science'], 'Machine Learning']"
   ]
  },
  {
   "cell_type": "code",
   "execution_count": 145,
   "id": "1a07b373-f86d-4bd4-aa12-5391858d7495",
   "metadata": {},
   "outputs": [],
   "source": [
    "list1 = [1,2,3,4, [44,55,66, True], False, (34,56,78,89,34), {1,2,3,3,2,1}, {1:34, \"key2\": [55, 67, 78, 89], 4: (45,\n",
    "22, 61, 34)}, [56, 'data science'], 'Machine Learning']\n"
   ]
  },
  {
   "cell_type": "code",
   "execution_count": 3,
   "id": "cb48dd52-28ba-41ec-ac0c-966a5030b4a3",
   "metadata": {},
   "outputs": [],
   "source": [
    "from collections.abc import Iterable\n",
    "from functools import reduce\n",
    "def get_product_of_numbers(input_list):\n",
    "    flat_list = []\n",
    "\n",
    "    def flatten(lst):\n",
    "        for item in lst:\n",
    "            if isinstance(item, Iterable) and not isinstance(item, (str, bytes)):\n",
    "                flatten(item)\n",
    "            else:\n",
    "                if isinstance(item, (int, float)):\n",
    "                    flat_list.append(item)\n",
    "                elif isinstance(item, (tuple, dict)):\n",
    "                    for key, value in item.items() if isinstance(item, dict) else enumerate(item):\n",
    "                        if isinstance(key, (int, float)):\n",
    "                            flat_list.append(key)\n",
    "                        if isinstance(value, (int, float)):\n",
    "                            flat_list.append(value)\n",
    "                        if isinstance(value, Iterable) and not isinstance(value, (str, bytes)):\n",
    "                            flatten(value)\n",
    "\n",
    "    flatten(input_list)\n",
    "    return 1 if not flat_list else reduce(lambda x, y: x*y, flat_list)\n"
   ]
  },
  {
   "cell_type": "code",
   "execution_count": 4,
   "id": "6cfc8da8-16af-4616-a8ae-dd1b9ad4ec5f",
   "metadata": {},
   "outputs": [
    {
     "name": "stdout",
     "output_type": "stream",
     "text": [
      "0\n"
     ]
    }
   ],
   "source": [
    "list1 = [1,2,3,4, [44,55,66, True], False, (34,56,78,89,34), {1,2,3,3,2,1}, {1:34, \"key2\": [55, 67, 78, 89], 4: (45, 22, 61, 34)}, [56, 'data science'], 'Machine Learning']\n",
    "\n",
    "result = get_product_of_numbers(list1)\n",
    "print(result)\n"
   ]
  },
  {
   "cell_type": "markdown",
   "id": "c2286060-b1da-48d8-9224-1a5ac0f50622",
   "metadata": {},
   "source": [
    "Q2. Write a python program for encrypting a message sent to you by your friend. The logic of encryption\n",
    "should be such that, for a the output should be z. For b, the output should be y. For c, the output should\n",
    "be x respectively. Also, the whitespace should be replaced with a dollar sign. Keep the punctuation\n",
    "marks unchanged.\n",
    "Input Sentence: I want to become a Data Scientist.\n",
    "Encrypt the above input sentence using the program you just created.\n",
    "Note: Convert the given input sentence into lowercase before encrypting. The final output should be\n",
    "lowercase."
   ]
  },
  {
   "cell_type": "code",
   "execution_count": 136,
   "id": "19136a9c-bcb4-4792-ad43-9581153f9ed7",
   "metadata": {},
   "outputs": [
    {
     "name": "stdin",
     "output_type": "stream",
     "text": [
      "Enter your message:   I want to become a Data Scientist\n"
     ]
    },
    {
     "name": "stdout",
     "output_type": "stream",
     "text": [
      "Encrypted message: $i$wznt$to$bexome$z$dzta$scientist\n"
     ]
    }
   ],
   "source": [
    "def encrypt_message(message):\n",
    "    encrypted_message = \"\"\n",
    "    for char in message:\n",
    "            if char ==\"a\":\n",
    "                encrypted_message= encrypted_message.replace(\"a\",\"z\")\n",
    "            if char ==\"b\":\n",
    "                encrypted_message= encrypted_message.replace(\"b\",\"y\")\n",
    "            if char ==\"c\":\n",
    "                encrypted_message= encrypted_message.replace(\"c\",\"x\")\n",
    "            if char == \" \":\n",
    "                encrypted_message += \"$\"\n",
    "             \n",
    "            else:\n",
    "                encrypted_message += char\n",
    "    return encrypted_message\n",
    "\n",
    "message = input(\"Enter your message: \")\n",
    "message=message.lower()\n",
    "encrypted_message = encrypt_message(message)\n",
    "print(\"Encrypted message:\", encrypted_message)\n",
    "\n",
    "    "
   ]
  }
 ],
 "metadata": {
  "kernelspec": {
   "display_name": "Python 3 (ipykernel)",
   "language": "python",
   "name": "python3"
  },
  "language_info": {
   "codemirror_mode": {
    "name": "ipython",
    "version": 3
   },
   "file_extension": ".py",
   "mimetype": "text/x-python",
   "name": "python",
   "nbconvert_exporter": "python",
   "pygments_lexer": "ipython3",
   "version": "3.10.8"
  }
 },
 "nbformat": 4,
 "nbformat_minor": 5
}
