{
 "cells": [
  {
   "cell_type": "markdown",
   "id": "7eea850a-c597-4502-a777-c5fc01a84982",
   "metadata": {},
   "source": [
    "Q1. Which keyword is used to create a function? Create a function to return a list of odd numbers in the\n",
    "range of 1 to 25."
   ]
  },
  {
   "cell_type": "markdown",
   "id": "78889b05-dd80-4a91-825f-114661c275a7",
   "metadata": {},
   "source": [
    "Ans- keyword used to create a function is \"def\"."
   ]
  },
  {
   "cell_type": "code",
   "execution_count": 1,
   "id": "b1796598-be97-4c7d-aa03-960010a7e5ae",
   "metadata": {},
   "outputs": [],
   "source": [
    "numbers=list(range(1, 26))\n",
    "def isodd (a):\n",
    "    odds=[]\n",
    "    for i in a :\n",
    "        if i%2!=0:\n",
    "            odds.append(i)\n",
    "    return odds"
   ]
  },
  {
   "cell_type": "code",
   "execution_count": 2,
   "id": "183ce98a-6fc0-40f9-bdf9-fef298349c62",
   "metadata": {},
   "outputs": [
    {
     "data": {
      "text/plain": [
       "[1, 3, 5, 7, 9, 11, 13, 15, 17, 19, 21, 23, 25]"
      ]
     },
     "execution_count": 2,
     "metadata": {},
     "output_type": "execute_result"
    }
   ],
   "source": [
    "isodd(numbers)"
   ]
  },
  {
   "cell_type": "markdown",
   "id": "415c5229-7eda-4070-8532-c3d41519d5d4",
   "metadata": {},
   "source": [
    "Q2. Why *args and **kwargs is used in some functions? Create a function each for *args and **kwargs\n",
    "to demonstrate their use."
   ]
  },
  {
   "cell_type": "markdown",
   "id": "323c99a3-daca-4a13-bb75-5fb217b8742b",
   "metadata": {},
   "source": [
    "Ans-\n",
    "\n",
    "*args is used to pass a variable number of non-keyword arguments to a function. The arguments passed to *args will be stored in a tuple.\n",
    "\n",
    "**kwargs is used to pass a variable number of keyword arguments to a function. The arguments passed to **kwargs will be stored in a dictionary."
   ]
  },
  {
   "cell_type": "code",
   "execution_count": 3,
   "id": "af9c12f4-9dbd-4a1d-8203-aff72e0bd60d",
   "metadata": {},
   "outputs": [],
   "source": [
    "def my_function(*args, **kwargs):\n",
    "    for arg in args:\n",
    "        print(arg)\n",
    "    for key, value in kwargs.items():\n",
    "        print(key, value)\n"
   ]
  },
  {
   "cell_type": "code",
   "execution_count": 4,
   "id": "8680352c-5ae1-49ee-9ef8-3a8773dacc35",
   "metadata": {},
   "outputs": [
    {
     "name": "stdout",
     "output_type": "stream",
     "text": [
      "1\n",
      "2\n",
      "3\n",
      "name John\n",
      "age 32\n"
     ]
    }
   ],
   "source": [
    "my_function(1, 2, 3, name=\"John\", age=32)"
   ]
  },
  {
   "cell_type": "markdown",
   "id": "d7741397-45e2-43ec-b094-fc98f1daa330",
   "metadata": {},
   "source": [
    "Q3. What is an iterator in python? Name the method used to initialise the iterator object and the method\n",
    "used for iteration. Use these methods to print the first five elements of the given list [2, 4, 6, 8, 10, 12, 14,\n",
    "16, 18, 20]."
   ]
  },
  {
   "cell_type": "markdown",
   "id": "08c0960c-ca4f-44c1-bb36-d81278cd4e8f",
   "metadata": {},
   "source": [
    "Ans-\n",
    "n iterator in Python is an object that implements the iterator protocol, which consists of two methods: __iter__() and __next__(). An object that implements these methods is considered an iterator and can be used in a for loop, in combination with the next() function, or with the iter() function."
   ]
  },
  {
   "cell_type": "code",
   "execution_count": 15,
   "id": "72d5f0ce-80d2-42c3-bd93-69dafacecb60",
   "metadata": {},
   "outputs": [
    {
     "name": "stdout",
     "output_type": "stream",
     "text": [
      "2\n",
      "4\n",
      "6\n",
      "8\n",
      "10\n"
     ]
    }
   ],
   "source": [
    "l= [2, 4, 6, 8, 10, 12, 14,16, 18, 20]\n",
    "for i in range(0,len(l)-5) :\n",
    "    print (l[i])\n",
    "    "
   ]
  },
  {
   "cell_type": "markdown",
   "id": "374d4f7d-ba1c-45ff-95e3-da877be58303",
   "metadata": {},
   "source": [
    "Q4. What is a generator function in python? Why yield keyword is used? Give an example of a generator\n",
    "function."
   ]
  },
  {
   "cell_type": "markdown",
   "id": "ac9eb185-6516-4c41-9ab4-7bf0d7c2b9f6",
   "metadata": {},
   "source": [
    "Ans-\n",
    "\n",
    "A generator function in Python is a special type of function that returns a generator iterator, which allows the function to return a series of values one at a time, rather than returning them all at once as a list\n",
    "\n",
    "The yield keyword is used in a generator function to produce a value, which can be retrieved by the caller of the generator. When the generator function is called, it returns a generator iterator object, which can be used to iterate through the values produced by the generator.\n"
   ]
  },
  {
   "cell_type": "code",
   "execution_count": 16,
   "id": "c507771f-60df-4f78-8919-854cca0417ea",
   "metadata": {},
   "outputs": [
    {
     "name": "stdout",
     "output_type": "stream",
     "text": [
      "2\n",
      "4\n",
      "6\n",
      "8\n",
      "10\n"
     ]
    }
   ],
   "source": [
    "def generate_even_numbers(n):\n",
    "    for i in range(2, n + 2, 2):\n",
    "        yield i\n",
    "\n",
    "even_numbers = generate_even_numbers(10)\n",
    "for num in even_numbers:\n",
    "    print(num)"
   ]
  },
  {
   "cell_type": "markdown",
   "id": "c0cafa1c-5b81-4fc3-a56d-4ae5b100b3be",
   "metadata": {},
   "source": [
    "Q5. Create a generator function for prime numbers less than 1000. Use the next() method to print the\n",
    "first 20 prime numbers."
   ]
  },
  {
   "cell_type": "code",
   "execution_count": 22,
   "id": "9ac42169-2e47-4d5b-bc88-9f97d3b021ed",
   "metadata": {},
   "outputs": [],
   "source": [
    "def primegenerater():\n",
    "    prime=[]\n",
    "    for i in range (2,1000):\n",
    "        for j  in prime:\n",
    "            if i%j==0:\n",
    "                break\n",
    "        else:\n",
    "            prime.append(i)\n",
    "            yield i"
   ]
  },
  {
   "cell_type": "code",
   "execution_count": 23,
   "id": "f1ee8da5-d5b0-483c-9d5a-16aa070a0ef9",
   "metadata": {},
   "outputs": [],
   "source": [
    "primenumber=primegenerater()"
   ]
  },
  {
   "cell_type": "code",
   "execution_count": 24,
   "id": "b2d99886-892c-4d41-aa4c-0d4ac960dca6",
   "metadata": {},
   "outputs": [
    {
     "name": "stdout",
     "output_type": "stream",
     "text": [
      "2\n",
      "3\n",
      "5\n",
      "7\n",
      "11\n",
      "13\n",
      "17\n",
      "19\n",
      "23\n",
      "29\n",
      "31\n",
      "37\n",
      "41\n",
      "43\n",
      "47\n",
      "53\n",
      "59\n",
      "61\n",
      "67\n",
      "71\n"
     ]
    }
   ],
   "source": [
    "for i in range (20):\n",
    "    print (next(primenumber))"
   ]
  },
  {
   "cell_type": "markdown",
   "id": "467e5c51-dab6-4691-9e65-7fce4b00875e",
   "metadata": {},
   "source": [
    "Q6. Write a python program to print the first 10 Fibonacci numbers using a while loop."
   ]
  },
  {
   "cell_type": "code",
   "execution_count": 36,
   "id": "927589d9-9534-437a-957d-c66a3f4a0663",
   "metadata": {},
   "outputs": [
    {
     "name": "stdout",
     "output_type": "stream",
     "text": [
      "0\n",
      "1\n",
      "1\n",
      "2\n",
      "3\n",
      "5\n",
      "8\n",
      "13\n",
      "21\n",
      "34\n"
     ]
    }
   ],
   "source": [
    "n=0\n",
    "x,y=0,1\n",
    "while n<10:\n",
    "    print (x)\n",
    "    x,y=y,x+y\n",
    "    n+=1"
   ]
  },
  {
   "cell_type": "markdown",
   "id": "0e3eb75b-f363-4554-9cd2-f6b7365e293a",
   "metadata": {},
   "source": [
    "Q7. Write a List Comprehension to iterate through the given string: ‘pwskills’.\n",
    "Expected output: ['p', 'w', 's', 'k', 'i', 'l', 'l', 's']"
   ]
  },
  {
   "cell_type": "code",
   "execution_count": 42,
   "id": "38dda1a7-f448-4a9e-beb7-3cc3fb04aed9",
   "metadata": {},
   "outputs": [
    {
     "data": {
      "text/plain": [
       "['p', 'w', 's', 'k', 'i', 'l', 'l', 's']"
      ]
     },
     "execution_count": 42,
     "metadata": {},
     "output_type": "execute_result"
    }
   ],
   "source": [
    "string='pwskills'\n",
    "[i for i in string]"
   ]
  },
  {
   "cell_type": "markdown",
   "id": "3ea2d485-97be-484f-9d80-ad7f25df7300",
   "metadata": {},
   "source": [
    "Q8. Write a python program to check whether a given number is Palindrome or not using a while loop."
   ]
  },
  {
   "cell_type": "code",
   "execution_count": 52,
   "id": "8eb5dec3-d306-42df-b5f9-52215ce1d67b",
   "metadata": {},
   "outputs": [
    {
     "name": "stdin",
     "output_type": "stream",
     "text": [
      "enter number : 123\n"
     ]
    },
    {
     "name": "stdout",
     "output_type": "stream",
     "text": [
      "this is not palindrome\n"
     ]
    }
   ],
   "source": [
    "number=int(input(\"enter number :\"))\n",
    "original = number\n",
    "reverse = 0\n",
    "while number > 0:\n",
    "        reverse = (reverse * 10) + (number % 10)\n",
    "        number = number // 10\n",
    "if original == reverse:\n",
    "    print (\"this is palindrome\")\n",
    "else :\n",
    "    print (\"this is not palindrome\")\n",
    "                "
   ]
  },
  {
   "cell_type": "markdown",
   "id": "7a455bc3-765a-46f6-8cca-f898b3eea3e2",
   "metadata": {},
   "source": [
    "Q9. Write a code to print odd numbers from 1 to 100 using list comprehension."
   ]
  },
  {
   "cell_type": "code",
   "execution_count": 60,
   "id": "b52ca039-7ac0-48a2-a017-cda43e20d9d7",
   "metadata": {},
   "outputs": [
    {
     "data": {
      "text/plain": [
       "[1,\n",
       " 3,\n",
       " 5,\n",
       " 7,\n",
       " 9,\n",
       " 11,\n",
       " 13,\n",
       " 15,\n",
       " 17,\n",
       " 19,\n",
       " 21,\n",
       " 23,\n",
       " 25,\n",
       " 27,\n",
       " 29,\n",
       " 31,\n",
       " 33,\n",
       " 35,\n",
       " 37,\n",
       " 39,\n",
       " 41,\n",
       " 43,\n",
       " 45,\n",
       " 47,\n",
       " 49,\n",
       " 51,\n",
       " 53,\n",
       " 55,\n",
       " 57,\n",
       " 59,\n",
       " 61,\n",
       " 63,\n",
       " 65,\n",
       " 67,\n",
       " 69,\n",
       " 71,\n",
       " 73,\n",
       " 75,\n",
       " 77,\n",
       " 79,\n",
       " 81,\n",
       " 83,\n",
       " 85,\n",
       " 87,\n",
       " 89,\n",
       " 91,\n",
       " 93,\n",
       " 95,\n",
       " 97,\n",
       " 99]"
      ]
     },
     "execution_count": 60,
     "metadata": {},
     "output_type": "execute_result"
    }
   ],
   "source": [
    "[ i for i in range (1,100) if i %2!=0]"
   ]
  },
  {
   "cell_type": "code",
   "execution_count": null,
   "id": "fa087aa0-2db7-47ff-8cea-d9cf69e44155",
   "metadata": {},
   "outputs": [],
   "source": []
  }
 ],
 "metadata": {
  "kernelspec": {
   "display_name": "Python 3 (ipykernel)",
   "language": "python",
   "name": "python3"
  },
  "language_info": {
   "codemirror_mode": {
    "name": "ipython",
    "version": 3
   },
   "file_extension": ".py",
   "mimetype": "text/x-python",
   "name": "python",
   "nbconvert_exporter": "python",
   "pygments_lexer": "ipython3",
   "version": "3.10.8"
  }
 },
 "nbformat": 4,
 "nbformat_minor": 5
}
