{
 "cells": [
  {
   "cell_type": "markdown",
   "id": "f3490122-1454-4418-86c3-9b4335b33ec9",
   "metadata": {},
   "source": [
    "Ql. What is an Exception in python? Write the difference between Exceptions and Syntax errors.\n",
    "\n"
   ]
  },
  {
   "cell_type": "markdown",
   "id": "ab384f0f-b174-4e57-9e53-3ae7c51d653c",
   "metadata": {},
   "source": [
    "Ans -\n",
    "\n",
    "Exception: is an error that occurs during program execution that interrupts the normal flow of the program.\n",
    "\n",
    "Syntax errors : occur when the code violates the rules of the programming language and cannot be parsed or compiled.\n",
    "\n",
    "The main difference between Exceptions and Syntax errors is that Syntax errors are detected by the interpreter before the program is executed, while Exceptions are raised during program execution."
   ]
  },
  {
   "cell_type": "markdown",
   "id": "6857e025-9ac8-4e53-a1da-9032d19a29d3",
   "metadata": {},
   "source": [
    "Q2. What happens when an exception is not handled? Explain with an example."
   ]
  },
  {
   "cell_type": "markdown",
   "id": "7ec8be2d-33f6-4552-b523-31443f351250",
   "metadata": {},
   "source": [
    "it causes the program to terminate abruptly, and an error message is displayed. \n",
    "This error message provides information about the type of exception that was raised and the line number of the code where the exception occurred."
   ]
  },
  {
   "cell_type": "code",
   "execution_count": 5,
   "id": "42a83ebf-190f-44be-9dd6-8b7dda583566",
   "metadata": {},
   "outputs": [
    {
     "ename": "ZeroDivisionError",
     "evalue": "division by zero",
     "output_type": "error",
     "traceback": [
      "\u001b[0;31m---------------------------------------------------------------------------\u001b[0m",
      "\u001b[0;31mZeroDivisionError\u001b[0m                         Traceback (most recent call last)",
      "Cell \u001b[0;32mIn[5], line 3\u001b[0m\n\u001b[1;32m      1\u001b[0m x \u001b[38;5;241m=\u001b[39m \u001b[38;5;241m10\u001b[39m\n\u001b[1;32m      2\u001b[0m y \u001b[38;5;241m=\u001b[39m \u001b[38;5;241m0\u001b[39m\n\u001b[0;32m----> 3\u001b[0m z \u001b[38;5;241m=\u001b[39m \u001b[43mx\u001b[49m\u001b[43m \u001b[49m\u001b[38;5;241;43m/\u001b[39;49m\u001b[43m \u001b[49m\u001b[43my\u001b[49m\n",
      "\u001b[0;31mZeroDivisionError\u001b[0m: division by zero"
     ]
    }
   ],
   "source": [
    "x = 10\n",
    "y = 0\n",
    "z = x / y\n"
   ]
  },
  {
   "cell_type": "markdown",
   "id": "5fd15b2f-3cd3-4ae6-b9b1-cc93436f01b7",
   "metadata": {},
   "source": [
    "Q3. Which Python statements are used to catch and handle exceptions? Explain with an example.\n",
    "\n"
   ]
  },
  {
   "cell_type": "markdown",
   "id": "7a873210-c47c-412e-b7c5-e8a606e0aca8",
   "metadata": {},
   "source": [
    "Ans-\n",
    "\n",
    "we use a try-except block. \n",
    "The try statement is used to enclose the code that might raise an exception, and the except statement is used to handle the exception that was raised. "
   ]
  },
  {
   "cell_type": "code",
   "execution_count": 11,
   "id": "49234906-2dd9-44b4-93bd-5cee9e88d366",
   "metadata": {},
   "outputs": [
    {
     "name": "stdin",
     "output_type": "stream",
     "text": [
      "Enter a number:  1\n",
      "Enter another number:  0\n"
     ]
    },
    {
     "name": "stdout",
     "output_type": "stream",
     "text": [
      "Error: division by zero\n"
     ]
    }
   ],
   "source": [
    "import logging\n",
    "logging.basicConfig(filename=\"exeption.log\",level=logging.DEBUG,format='%(asctime)s  %(message)s')\n",
    "try:\n",
    "    x = int(input(\"Enter a numblogging\"))\n",
    "    y = int(input(\"Enter another number: \"))\n",
    "    z = x / y\n",
    "except ZeroDivisionError:\n",
    "    logging.error(\"Error:division by zero\")\n",
    "    print(\"Error: division by zero\")\n",
    "except ValueError:\n",
    "    logging.error(\"Error:invalid input\")\n",
    "    print(\"Error: invalid input\")\n",
    "    \n"
   ]
  },
  {
   "cell_type": "markdown",
   "id": "8c7b28a3-2b40-470c-8273-4419c2923d7a",
   "metadata": {},
   "source": [
    "Q4. Explain with an example:\n",
    "\n",
    "a.\ttry and else\n",
    "b.\tfinally\n",
    "c.\traise\n",
    "\n"
   ]
  },
  {
   "cell_type": "code",
   "execution_count": 1,
   "id": "17782ad7-368d-4ce6-93e5-1dc854e88d8a",
   "metadata": {},
   "outputs": [
    {
     "name": "stdout",
     "output_type": "stream",
     "text": [
      "Cannot divide by zero\n"
     ]
    }
   ],
   "source": [
    "import logging\n",
    "logging.basicConfig(filename=\"tryandelse.log\",level=logging.DEBUG,format='%(asctime)s  %(message)s')\n",
    "try:\n",
    "    x = 5 / 0\n",
    "except ZeroDivisionError:\n",
    "    logging.error(\"Error: Cannot divide by zero\")\n",
    "    print(\"Cannot divide by zero\")\n",
    "else:\n",
    "    print(\"No exception occurred\")\n",
    "    logging.error(\"No exception occurred\")\n"
   ]
  },
  {
   "cell_type": "code",
   "execution_count": 3,
   "id": "8422156f-79ee-448a-bb9e-1150b0433993",
   "metadata": {},
   "outputs": [],
   "source": [
    "import logging\n",
    "logging.basicConfig(filename=\"tryfinally.log\",level=logging.DEBUG,format='%(asctime)s  %(message)s')\n",
    "\n",
    "try:\n",
    "    f = open(\"file.txt\",\"r\")\n",
    "    logging.info(\"open successfully\")\n",
    "finally:\n",
    "    f.close()\n",
    "    logging.info(\"close successfully\")\n"
   ]
  },
  {
   "cell_type": "code",
   "execution_count": 2,
   "id": "a5248982-c651-4bdc-b0e4-70ff85b07098",
   "metadata": {},
   "outputs": [
    {
     "ename": "Exception",
     "evalue": "You must be 18 or older to vote",
     "output_type": "error",
     "traceback": [
      "\u001b[0;31m---------------------------------------------------------------------------\u001b[0m",
      "\u001b[0;31mException\u001b[0m                                 Traceback (most recent call last)",
      "Cell \u001b[0;32mIn[2], line 7\u001b[0m\n\u001b[1;32m      5\u001b[0m \u001b[38;5;28;01mif\u001b[39;00m age \u001b[38;5;241m<\u001b[39m \u001b[38;5;241m18\u001b[39m:\n\u001b[1;32m      6\u001b[0m     logging\u001b[38;5;241m.\u001b[39merror(\u001b[38;5;124m\"\u001b[39m\u001b[38;5;124mYou must be 18 or older to vote\u001b[39m\u001b[38;5;124m\"\u001b[39m)\n\u001b[0;32m----> 7\u001b[0m \u001b[38;5;28;01mraise\u001b[39;00m \u001b[38;5;167;01mException\u001b[39;00m(\u001b[38;5;124m\"\u001b[39m\u001b[38;5;124mYou must be 18 or older to vote\u001b[39m\u001b[38;5;124m\"\u001b[39m)\n",
      "\u001b[0;31mException\u001b[0m: You must be 18 or older to vote"
     ]
    }
   ],
   "source": [
    "import logging\n",
    "logging.basicConfig(filename=\"ifrase.log\",level=logging.DEBUG,format='%(asctime)s  %(message)s')\n",
    "\n",
    "age = 17\n",
    "if age < 18:\n",
    "    logging.error(\"You must be 18 or older to vote\")\n",
    "raise Exception(\"You must be 18 or older to vote\")\n"
   ]
  },
  {
   "cell_type": "markdown",
   "id": "a5e76956-363a-4d17-b4ff-572a78807157",
   "metadata": {},
   "source": [
    "Q5. What are Custom Exceptions in python? Why do we need Custom Exceptions? Explain with an example. "
   ]
  },
  {
   "cell_type": "markdown",
   "id": "c49de5a6-edfb-45e2-a6a6-1c2456644076",
   "metadata": {},
   "source": [
    "Custom exceptions in Python are user-defined exceptions that can be created to handle specific errors that may not be covered by the built-in exceptions.\n",
    "\n",
    "We need custom exceptions in Python to make our code more readable, maintainable, and modular.\n",
    "\n",
    "Custom exceptions allow us to separate the error handling logic from the main code, which makes it easier to debug and test our code."
   ]
  },
  {
   "cell_type": "code",
   "execution_count": 2,
   "id": "7ca76bcc-d955-49f7-8914-994650daaf15",
   "metadata": {},
   "outputs": [
    {
     "name": "stdin",
     "output_type": "stream",
     "text": [
      "Enter your age:  20\n"
     ]
    },
    {
     "name": "stdout",
     "output_type": "stream",
     "text": [
      "Welcome to our website!\n"
     ]
    }
   ],
   "source": [
    "import logging\n",
    "logging.basicConfig(filename=\"custom.log\",level=logging.DEBUG,format='%(asctime)s  %(message)s')\n",
    "class InvalidAgeException(Exception):\n",
    "    def __init__(self, message):\n",
    "        super().__init__(message)\n",
    "\n",
    "age = int(input(\"Enter your age: \"))\n",
    "if age < 18:\n",
    "    logging.warning(\"You must be 18 or older to access this content.\")\n",
    "    raise InvalidAgeException(\"You must be 18 or older to access this content.\")\n",
    "else:\n",
    "    logging.info(\"Welcome to our website!\")\n",
    "    print(\"Welcome to our website!\")\n"
   ]
  },
  {
   "cell_type": "markdown",
   "id": "9beca173-a4b2-4a93-897d-d85eb7254f95",
   "metadata": {},
   "source": [
    "Q6. Create a custom exception class. Use this class to handle an exception."
   ]
  },
  {
   "cell_type": "code",
   "execution_count": 1,
   "id": "0c698d12-c006-448e-8e05-88c88204c421",
   "metadata": {},
   "outputs": [
    {
     "name": "stdout",
     "output_type": "stream",
     "text": [
      "Caught MyCustomException: This is my custom exception message\n"
     ]
    }
   ],
   "source": [
    "import logging\n",
    "logging.basicConfig(filename=\"customandtry.log\",level=logging.DEBUG,format='%(asctime)s  %(message)s')\n",
    "class MyCustomException(Exception):\n",
    "    logging.info(\"custom class executed \")\n",
    "    pass\n",
    "\n",
    "try:\n",
    "    logging.info(\"this is my Ecxeption msg\")\n",
    "    raise MyCustomException(\"This is my custom exception message\")\n",
    "except MyCustomException as e:\n",
    "    logging.info(\"caught my custom exception\")\n",
    "    print(\"Caught MyCustomException:\", e)\n"
   ]
  },
  {
   "cell_type": "code",
   "execution_count": null,
   "id": "48b86d29-8f45-46c7-bd8c-ea63c365f17a",
   "metadata": {},
   "outputs": [],
   "source": []
  }
 ],
 "metadata": {
  "kernelspec": {
   "display_name": "Python 3 (ipykernel)",
   "language": "python",
   "name": "python3"
  },
  "language_info": {
   "codemirror_mode": {
    "name": "ipython",
    "version": 3
   },
   "file_extension": ".py",
   "mimetype": "text/x-python",
   "name": "python",
   "nbconvert_exporter": "python",
   "pygments_lexer": "ipython3",
   "version": "3.10.8"
  }
 },
 "nbformat": 4,
 "nbformat_minor": 5
}
