{
 "cells": [
  {
   "cell_type": "markdown",
   "id": "cdcf3803-2310-4645-bab2-7bb591195642",
   "metadata": {},
   "source": [
    "Q1, Create a vehicle class with an init method having instance variables as name_of_vehicle, max_speed\n",
    "and average_of_vehicle."
   ]
  },
  {
   "cell_type": "code",
   "execution_count": 1,
   "id": "581daa04-bd47-4c94-8301-7e87f233f222",
   "metadata": {},
   "outputs": [],
   "source": [
    "class vehicle:\n",
    "    def __init__(self,name_of_vehicle,max_speed,average_of_vehicle):\n",
    "        self.name_of_vehicle=name_of_vehicle\n",
    "        self.max_speed=max_speed \n",
    "        self.average_of_vehicle=average_of_vehicle"
   ]
  },
  {
   "cell_type": "markdown",
   "id": "de88f560-26d4-49af-8942-123d68f234dd",
   "metadata": {},
   "source": [
    "Q2. Create a child class car from the vehicle class created in Que 1, which will inherit the vehicle class.\n",
    "Create a method named seating_capacity which takes capacity as an argument and returns the name of\n",
    "the vehicle and its seating capacity."
   ]
  },
  {
   "cell_type": "code",
   "execution_count": 45,
   "id": "7ca2d9ae-a85a-4622-97b3-e2dae3670ddd",
   "metadata": {},
   "outputs": [],
   "source": [
    "class car(vehicle):\n",
    "    def seating_capacity(self,capacity):\n",
    "        self.seating_capacity=capacity\n",
    "        return f\"The vehicle {self.name_of_vehicle} has a seating capacity of {capacity}.\"\n",
    "    "
   ]
  },
  {
   "cell_type": "code",
   "execution_count": 48,
   "id": "4aadd99c-f933-4578-b29b-6cb58ffff9af",
   "metadata": {},
   "outputs": [],
   "source": [
    "my_car = car(\"BMW 370\", 200, 10)"
   ]
  },
  {
   "cell_type": "code",
   "execution_count": 49,
   "id": "1fbfb1d3-322a-4906-b51e-d3cafedb84b9",
   "metadata": {},
   "outputs": [],
   "source": [
    "capacity= my_car.seating_capacity(5)"
   ]
  },
  {
   "cell_type": "code",
   "execution_count": 50,
   "id": "5b66f11a-3660-478b-aede-722458f91d37",
   "metadata": {},
   "outputs": [
    {
     "data": {
      "text/plain": [
       "'The vehicle BMW 370 has a seating capacity of 5.'"
      ]
     },
     "execution_count": 50,
     "metadata": {},
     "output_type": "execute_result"
    }
   ],
   "source": [
    "capacity"
   ]
  },
  {
   "cell_type": "markdown",
   "id": "bb05ccdc-b43f-4735-902c-78cb25daed71",
   "metadata": {},
   "source": [
    "Q3. What is multiple inheritance? Write a python code to demonstrate multiple inheritance."
   ]
  },
  {
   "cell_type": "markdown",
   "id": "b1113b97-c69a-41eb-a0f4-7e52ad18c997",
   "metadata": {},
   "source": [
    "Ans-\n",
    " multiple inheritance that allows a class to inherit characteristics and behavior from multiple parent classes. In other words, a class can have more than one superclass."
   ]
  },
  {
   "cell_type": "code",
   "execution_count": 58,
   "id": "0340a4f2-0ad9-462f-b355-69cd9b44f083",
   "metadata": {},
   "outputs": [],
   "source": [
    "class A:\n",
    "    def a(self):\n",
    "        return \"Class A and method a\"\n",
    "\n",
    "class B:\n",
    "    def b(self):\n",
    "        return \"Class B and method b\"\n",
    "\n",
    "class C(A, B):\n",
    "    def c(self):\n",
    "        return \"i have a and b\"\n",
    "\n"
   ]
  },
  {
   "cell_type": "code",
   "execution_count": 59,
   "id": "2aea6884-6ee5-4771-bc4c-ab26fd3e57e3",
   "metadata": {},
   "outputs": [],
   "source": [
    "my_c = C()"
   ]
  },
  {
   "cell_type": "code",
   "execution_count": 63,
   "id": "fa334bb5-28f0-4a34-9c90-47aa8a8e1664",
   "metadata": {},
   "outputs": [
    {
     "name": "stdout",
     "output_type": "stream",
     "text": [
      "Class A and method a + Class B and method b = i have a and b\n"
     ]
    }
   ],
   "source": [
    "print (my_c.a(),\"+\",my_c.b(),\"=\",my_c.c())"
   ]
  },
  {
   "cell_type": "markdown",
   "id": "ed67cdaf-fcff-4c46-af44-820bb6f9aa72",
   "metadata": {},
   "source": [
    "Q4. What are getter and setter in python? Create a class and create a getter and a setter method in this\n",
    "class."
   ]
  },
  {
   "cell_type": "markdown",
   "id": "ed0a3fd5-c03e-420e-b031-c15f0aa2d9d5",
   "metadata": {},
   "source": [
    "Ans-\n",
    "In object-oriented programming, getters and setters are methods that allow you to retrieve (get) or change (set) the value of an object's properties."
   ]
  },
  {
   "cell_type": "code",
   "execution_count": 64,
   "id": "791ceeac-9e2f-4aa6-9122-4d4726cf264f",
   "metadata": {},
   "outputs": [],
   "source": [
    "class Man:\n",
    "    def __init__(self,name,age):\n",
    "        self.__name=name\n",
    "        self.__age=age\n",
    "    def get_name(self):\n",
    "        return  self.__name\n",
    "    def get_age(self):\n",
    "        return self.__age\n",
    "    def set_name(self,name):\n",
    "        self.__name=name\n",
    "    def set_age(self,age):\n",
    "        if age >0:\n",
    "            self.__age=age\n",
    "        else :\n",
    "            print (\"age should be more than 0 years\")"
   ]
  },
  {
   "cell_type": "code",
   "execution_count": 65,
   "id": "5fa2f23e-327c-49f6-ab5c-5388cbc3ec81",
   "metadata": {},
   "outputs": [],
   "source": [
    "man=Man(\"Azad\",25)"
   ]
  },
  {
   "cell_type": "code",
   "execution_count": 72,
   "id": "556c085c-7019-430c-827a-bb94c3497011",
   "metadata": {},
   "outputs": [
    {
     "name": "stdout",
     "output_type": "stream",
     "text": [
      "Azad 25\n"
     ]
    }
   ],
   "source": [
    "print (man.get_name(),man.get_age())"
   ]
  },
  {
   "cell_type": "code",
   "execution_count": 73,
   "id": "0e4d9a8b-5600-49f8-8fa8-63ffa4b83449",
   "metadata": {},
   "outputs": [],
   "source": [
    "man.set_name(\"Adeeb\")\n",
    "man.set_age(29)"
   ]
  },
  {
   "cell_type": "code",
   "execution_count": 74,
   "id": "c722f1fa-fbfd-4952-9ffd-aa01e0cff45b",
   "metadata": {},
   "outputs": [
    {
     "name": "stdout",
     "output_type": "stream",
     "text": [
      "Adeeb 29\n"
     ]
    }
   ],
   "source": [
    "print (man.get_name(),man.get_age())"
   ]
  },
  {
   "cell_type": "markdown",
   "id": "bbb10a17-efc9-46a7-9503-a91da962737c",
   "metadata": {},
   "source": [
    "Q5.What is method overriding in python? Write a python code to demonstrate method overriding."
   ]
  },
  {
   "cell_type": "markdown",
   "id": "44151547-5fe6-4d9e-80e5-0d9e563143f5",
   "metadata": {},
   "source": [
    "Ans-\n",
    "\n",
    "Method overriding is a feature in object-oriented programming languages that allows a child class to provide a different implementation for a method that it inherits from a parent class."
   ]
  },
  {
   "cell_type": "code",
   "execution_count": 76,
   "id": "6d71b6f3-7128-4299-a1e0-742bc38354c3",
   "metadata": {},
   "outputs": [],
   "source": [
    "class Animal:\n",
    "    def make_sound(self):\n",
    "        return \"The animal makes a sound.\"\n",
    "\n",
    "class Dog(Animal):\n",
    "    def make_sound(self):\n",
    "        return \"The dog barks.\"\n",
    "\n"
   ]
  },
  {
   "cell_type": "code",
   "execution_count": 79,
   "id": "f09520a1-c06f-4566-934d-0e704daabb1e",
   "metadata": {},
   "outputs": [
    {
     "name": "stdout",
     "output_type": "stream",
     "text": [
      "The animal makes a sound.\n"
     ]
    }
   ],
   "source": [
    "animal = Animal()\n",
    "print(animal.make_sound())"
   ]
  },
  {
   "cell_type": "code",
   "execution_count": 80,
   "id": "c951887e-ae8d-40c5-8c20-5d3ddf2f07a7",
   "metadata": {},
   "outputs": [
    {
     "name": "stdout",
     "output_type": "stream",
     "text": [
      "The dog barks.\n"
     ]
    }
   ],
   "source": [
    "dog = Dog()\n",
    "print(dog.make_sound())"
   ]
  },
  {
   "cell_type": "markdown",
   "id": "b41cf50e-0d7b-4746-ab13-b8133fe189f9",
   "metadata": {},
   "source": [
    "In this example, the Animal class has a method called make_sound that returns a string indicating that the animal makes a sound. The Dog class is a subclass of Animal that overrides the make_sound method to return a string indicating that the dog barks."
   ]
  },
  {
   "cell_type": "code",
   "execution_count": null,
   "id": "3edead5b-ea6c-4239-96d4-fa9536eccb3e",
   "metadata": {},
   "outputs": [],
   "source": []
  }
 ],
 "metadata": {
  "kernelspec": {
   "display_name": "Python 3 (ipykernel)",
   "language": "python",
   "name": "python3"
  },
  "language_info": {
   "codemirror_mode": {
    "name": "ipython",
    "version": 3
   },
   "file_extension": ".py",
   "mimetype": "text/x-python",
   "name": "python",
   "nbconvert_exporter": "python",
   "pygments_lexer": "ipython3",
   "version": "3.10.8"
  }
 },
 "nbformat": 4,
 "nbformat_minor": 5
}
