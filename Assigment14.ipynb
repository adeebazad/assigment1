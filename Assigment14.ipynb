{
 "cells": [
  {
   "cell_type": "markdown",
   "id": "ef4949db-cf06-4e60-b596-43d4d6641c41",
   "metadata": {},
   "source": [
    "Ql. What is multithreadingin python? Why is it used? Name the module used to handle threads in python.\n",
    "\n"
   ]
  },
  {
   "cell_type": "markdown",
   "id": "fe65893c-1696-43f6-9d53-cc89f5de7d0d",
   "metadata": {},
   "source": [
    "Ans-\n",
    "Multi-threading: Multiple threads can exist within one process where:\n",
    "the ability of a processor to execute multiple threads concurrently.\n",
    "enables you to write in a way where multiple activities can proceed concurrently in the same program.\n",
    "The threading module is a high-level implementation of multithreading used to deploy an application in Python."
   ]
  },
  {
   "cell_type": "markdown",
   "id": "e940948e-319d-417e-9eda-c47eb0bd3717",
   "metadata": {},
   "source": [
    "Q2. Why threading module used? Write the use of the following functions:\n",
    "1.activecount()\n",
    "\n",
    "2.currentThread()\n",
    "\n",
    "3.enumerate()\n",
    "\n",
    "\n"
   ]
  },
  {
   "cell_type": "markdown",
   "id": "20785026-1467-4c69-b5da-0bc447011fea",
   "metadata": {},
   "source": [
    "Ans-\n",
    "\n",
    "threading.activeCount() − Returns the number of thread objects that are active.\n",
    "\n",
    "threading.currentThread() − Returns the number of thread objects in the caller's thread control.\n",
    "\n",
    "threading.enumerate() − Returns a list of all thread objects that are currently active."
   ]
  },
  {
   "cell_type": "markdown",
   "id": "9535ca3d-39ee-4662-b295-95d2602084db",
   "metadata": {},
   "source": [
    "Q3.Explain the following functions:\n",
    "\n",
    "1.run()\n",
    "\n",
    "2.start()\n",
    "\n",
    "3.join()\n",
    "\n",
    "4.isAlive()\n",
    "\n",
    "\n"
   ]
  },
  {
   "cell_type": "markdown",
   "id": "5819a7be-4cbb-45b1-8505-0769e47a6f52",
   "metadata": {},
   "source": [
    "Ans-\n",
    "\n",
    "run()  − The run() method is the entry point for a thread.\n",
    "\n",
    "start()  − The start() method starts a thread by calling the run method.\n",
    "\n",
    "join()  − The join() waits for threads to terminate.\n",
    "\n",
    "isAlive()  − The isAlive() method checks whether a thread is still executing."
   ]
  },
  {
   "cell_type": "markdown",
   "id": "f8be1151-1d72-4e79-bbc0-77b3379bee2b",
   "metadata": {},
   "source": [
    "Q4. Write a python program to create two threads. Thread one must print the list of squares and thread two must print the list of cubes.\n",
    "\n"
   ]
  },
  {
   "cell_type": "code",
   "execution_count": 1,
   "id": "a463eaca-75a8-4592-94ed-fc9128b78bdb",
   "metadata": {},
   "outputs": [
    {
     "name": "stdout",
     "output_type": "stream",
     "text": [
      "List of squares: [1, 4, 9, 16, 25, 36, 49, 64, 81, 100]\n",
      "List of cubes: [1, 8, 27, 64, 125, 216, 343, 512, 729, 1000]\n"
     ]
    }
   ],
   "source": [
    "import threading\n",
    "import logging\n",
    "logging.basicConfig(filename=\"threadlog.log\",level=logging.DEBUG,format='%(asctime)s  %(message)s')\n",
    "try:\n",
    "    def print_squares():\n",
    "        squares = [i**2 for i in range(1, 11)]\n",
    "        print(\"List of squares:\", squares)\n",
    "        logging.info(\"square list created successfully\")\n",
    "    def print_cubes():\n",
    "        cubes = [i**3 for i in range(1, 11)]\n",
    "        print(\"List of cubes:\", cubes)\n",
    "        logging.info(\"cube list created successfully\")\n",
    "    t1 = threading.Thread(target=print_squares)\n",
    "    t2 = threading.Thread(target=print_cubes)\n",
    "    t1.start()\n",
    "    logging.info(\"thread 1 started  successfully\")\n",
    "    t2.start()\n",
    "    logging.info(\"thread 2 started  successfully\")\n",
    "    t1.join()\n",
    "    t2.join()\n",
    "    logging.info(\"out put obtainde   successfully\")\n",
    "except threading.ThreadError as e:\n",
    "    print (e)\n",
    "    \n"
   ]
  },
  {
   "cell_type": "code",
   "execution_count": null,
   "id": "2e5f177f-a1d2-4245-a05d-8d59055b12cd",
   "metadata": {},
   "outputs": [],
   "source": []
  },
  {
   "cell_type": "markdown",
   "id": "2cf95de5-ccd5-44c7-abc6-e1d292ed0758",
   "metadata": {},
   "source": [
    "Q5. State advantages and disadvantages of multithreading.\n"
   ]
  },
  {
   "cell_type": "markdown",
   "id": "9afe47c2-4ac2-4edf-9ae8-e41ef9c801ce",
   "metadata": {},
   "source": [
    "Ans-\n",
    "\n",
    "Advantages:\n",
    "\n",
    "Increased performance: Multithreading can improve the overall performance of a program by allowing it to execute multiple tasks simultaneously, taking advantage of the available processing power.\n",
    "\n",
    "Responsiveness: Multithreading can make a program more responsive to user input, as it can continue to execute other tasks in the background while waiting for user input or external events.\n",
    "\n",
    "Resource sharing: Multithreading can allow multiple threads to access and share resources such as memory or I/O devices more efficiently, reducing the overhead of creating and managing multiple processes.\n",
    "\n",
    "Simplified program design: Multithreading can simplify the design of a program by allowing the different parts of the program to be implemented as separate threads, each responsible for a specific task.\n",
    "\n",
    "Disadvantages:\n",
    "\n",
    "Increased complexity: Multithreading can add complexity to a program, as it requires careful coordination and synchronization of multiple threads to avoid issues such as race conditions, deadlocks, and other synchronization problems.\n",
    "\n",
    "Resource contention: Multithreading can lead to resource contention, where multiple threads compete for the same resource such as memory or I/O devices. This can lead to performance degradation and other issues.\n"
   ]
  },
  {
   "cell_type": "markdown",
   "id": "9292278c-b39a-40b5-bdc2-581304767b12",
   "metadata": {},
   "source": [
    "Q6. Explain deadlocks and race conditions."
   ]
  },
  {
   "cell_type": "markdown",
   "id": "1477fbde-7032-478d-af45-842c7c4b48fb",
   "metadata": {},
   "source": [
    "Deadlocks and race conditions are common issues that can occur in multithreaded programs.\n",
    "\n",
    "Deadlocks occur when two or more threads are blocked, waiting for each other to release resources that they need to continue executing. This can happen when each thread holds a resource that the other thread needs, and neither thread is willing to release their resource until they acquire the resource they need from the other thread. This results in a situation where both threads are waiting indefinitely, unable to proceed."
   ]
  },
  {
   "cell_type": "code",
   "execution_count": null,
   "id": "057a9c33-8b46-4b5a-92bc-b424cd38a5bb",
   "metadata": {},
   "outputs": [],
   "source": []
  }
 ],
 "metadata": {
  "kernelspec": {
   "display_name": "Python 3 (ipykernel)",
   "language": "python",
   "name": "python3"
  },
  "language_info": {
   "codemirror_mode": {
    "name": "ipython",
    "version": 3
   },
   "file_extension": ".py",
   "mimetype": "text/x-python",
   "name": "python",
   "nbconvert_exporter": "python",
   "pygments_lexer": "ipython3",
   "version": "3.10.8"
  }
 },
 "nbformat": 4,
 "nbformat_minor": 5
}
