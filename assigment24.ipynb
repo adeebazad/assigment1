{
 "cells": [
  {
   "cell_type": "markdown",
   "id": "8e487f47-94be-4c32-bcb9-a7fae3c3b47f",
   "metadata": {},
   "source": [
    "Q1. Create a Pandas Series that contains the following data: 4, 8, 15, 16, 23, and 42. Then, print the series."
   ]
  },
  {
   "cell_type": "code",
   "execution_count": 98,
   "id": "d90db983-77d9-454e-a47b-1d7dc49f45a8",
   "metadata": {},
   "outputs": [
    {
     "name": "stdout",
     "output_type": "stream",
     "text": [
      "0     4\n",
      "1     8\n",
      "2    15\n",
      "3    16\n",
      "4    23\n",
      "5    42\n",
      "dtype: int64\n"
     ]
    }
   ],
   "source": [
    "import pandas as pd\n",
    "\n",
    "data = [4, 8, 15, 16, 23, 42]\n",
    "\n",
    "series = pd.Series(data)\n",
    "\n",
    "print(series)"
   ]
  },
  {
   "cell_type": "markdown",
   "id": "6f34394d-4b98-480f-b631-f3a4573373b0",
   "metadata": {},
   "source": [
    "Q2. Create a variable of list type containing 10 elements in it, and apply pandas.Series function on the\n",
    "variable print it."
   ]
  },
  {
   "cell_type": "code",
   "execution_count": 99,
   "id": "ed810710-c073-454e-b045-37a5607eab05",
   "metadata": {},
   "outputs": [
    {
     "name": "stdout",
     "output_type": "stream",
     "text": [
      "0     1\n",
      "1     2\n",
      "2     3\n",
      "3     4\n",
      "4     5\n",
      "5     6\n",
      "6     7\n",
      "7     8\n",
      "8     9\n",
      "9    10\n",
      "dtype: int64\n"
     ]
    }
   ],
   "source": [
    "import pandas as pd\n",
    "\n",
    "my_list = [1, 2, 3, 4, 5, 6, 7, 8, 9, 10]\n",
    "\n",
    "my_series = pd.Series(my_list)\n",
    "\n",
    "print(my_series)"
   ]
  },
  {
   "cell_type": "code",
   "execution_count": 100,
   "id": "b3765ba2-7a05-4f4e-80bb-e33fb3c0db2e",
   "metadata": {},
   "outputs": [
    {
     "name": "stdout",
     "output_type": "stream",
     "text": [
      "     Name  Age  Gender\n",
      "0   Alice   25  Female\n",
      "1     Bob   30    Male\n",
      "2  Claire   27  Female\n"
     ]
    }
   ],
   "source": [
    "import pandas as pd\n",
    "\n",
    "data = {\n",
    "    \"Name\": [\"Alice\", \"Bob\", \"Claire\"],\n",
    "    \"Age\": [25, 30, 27],\n",
    "    \"Gender\": [\"Female\", \"Male\", \"Female\"]\n",
    "}\n",
    "\n",
    "df = pd.DataFrame(data)\n",
    "\n",
    "print(df)\n"
   ]
  },
  {
   "cell_type": "markdown",
   "id": "8cc72114-b95a-4eb4-83fb-956ac7559af6",
   "metadata": {},
   "source": [
    "Q4. What is ‘DataFrame’ in pandas and how is it different from pandas.series? Explain with an example."
   ]
  },
  {
   "cell_type": "markdown",
   "id": "dcfdd6b4-80ce-43c0-8486-cf187487a53a",
   "metadata": {},
   "source": [
    "Ans-\n",
    "\n",
    "A Pandas DataFrame is a two-dimensional data structure that can store data of different types in columns. It is similar to a spreadsheet or a SQL table. A DataFrame has both rows and columns, and each column can be thought of as a Pandas Series object."
   ]
  },
  {
   "cell_type": "code",
   "execution_count": 103,
   "id": "e56113d8-432c-4148-bc01-b6e4d9b27625",
   "metadata": {},
   "outputs": [
    {
     "name": "stdout",
     "output_type": "stream",
     "text": [
      "     Name  Age  Gender\n",
      "0   Alice   25  Female\n",
      "1     Bob   30    Male\n",
      "2  Claire   27  Female\n"
     ]
    }
   ],
   "source": [
    "data = {\n",
    "    \"Name\": [\"Alice\", \"Bob\", \"Claire\"],\n",
    "    \"Age\": [25, 30, 27],\n",
    "    \"Gender\": [\"Female\", \"Male\", \"Female\"]\n",
    "}\n",
    "\n",
    "df = pd.DataFrame(data)\n",
    "\n",
    "print(df)"
   ]
  },
  {
   "cell_type": "markdown",
   "id": "ce71a111-58dc-42e4-afbf-289a205673d2",
   "metadata": {},
   "source": [
    "A Pandas Series, on the other hand, is a one-dimensional array-like object that can store data of different types. It is similar to a column in a spreadsheet or a SQL table. A Series has only one axis (the index), whereas a DataFrame has two axes (the index and the columns)."
   ]
  },
  {
   "cell_type": "code",
   "execution_count": 104,
   "id": "d9aa86ae-9dd8-48f1-92cd-fc9c1c32395e",
   "metadata": {},
   "outputs": [
    {
     "name": "stdout",
     "output_type": "stream",
     "text": [
      "0    25\n",
      "1    30\n",
      "2    27\n",
      "dtype: int64\n"
     ]
    }
   ],
   "source": [
    "data = [25, 30, 27]\n",
    "\n",
    "s = pd.Series(data)\n",
    "\n",
    "print(s)"
   ]
  },
  {
   "cell_type": "markdown",
   "id": "4902b11a-2056-41fe-9663-b70ce49d1579",
   "metadata": {},
   "source": [
    "Q5-What are some common functions you can use to manipulate data in a Pandas DataFrame? Can\n",
    "you give an example of when you might use one of these functions?"
   ]
  },
  {
   "cell_type": "markdown",
   "id": "01d40565-262e-4f7d-b556-7d394a0dc0e5",
   "metadata": {},
   "source": [
    "Ans-\n",
    "\n",
    "head() and tail(): These functions allow you to view the first or last n rows of a DataFrame. For example, df.head(10) would show you the first 10 rows of the DataFrame.\n",
    "\n",
    "describe(): This function provides summary statistics for each column in the DataFrame. For example, df.describe() would show you the count, mean, standard deviation, minimum, and maximum values for each column.\n",
    "\n",
    "sort_values(): This function allows you to sort the rows of a DataFrame by one or more columns. For example, df.sort_values(by='Age') would sort the rows of the DataFrame by the values in the ‘Age’ column."
   ]
  },
  {
   "cell_type": "markdown",
   "id": "e3faea65-2e22-40e4-9ea9-bfa916615a1f",
   "metadata": {},
   "source": [
    "Q6. Which of the following is mutable in nature Series, DataFrame, Panel?"
   ]
  },
  {
   "cell_type": "markdown",
   "id": "0cac2656-6eb2-49d0-87f8-1c7cab3c4348",
   "metadata": {},
   "source": [
    "Ans-\n",
    "In Pandas, both Series and DataFrame are mutable in nature. This means that you can modify their values after they have been created. For example, you can add or remove rows or columns from a DataFrame, or change the values in a Series.\n",
    "\n",
    "a three-dimensional data structure in Pandas that is similar to a DataFrame but with an additional axis. Panels are not as commonly used as Series and DataFrames, but they are also mutable in nature."
   ]
  },
  {
   "cell_type": "markdown",
   "id": "74b1d262-ba3d-42b4-a80c-0056bacc20b9",
   "metadata": {},
   "source": [
    "Q7. Create a DataFrame using multiple Series. Explain with an example."
   ]
  },
  {
   "cell_type": "code",
   "execution_count": 105,
   "id": "566e7cf1-732e-46bb-97c1-921e30837be1",
   "metadata": {},
   "outputs": [
    {
     "name": "stdout",
     "output_type": "stream",
     "text": [
      "     Name  Age  Gender\n",
      "0   Alice   25  Female\n",
      "1     Bob   30    Male\n",
      "2  Claire   27  Female\n"
     ]
    }
   ],
   "source": [
    "name = pd.Series([\"Alice\", \"Bob\", \"Claire\"])\n",
    "age = pd.Series([25, 30, 27])\n",
    "gender = pd.Series([\"Female\", \"Male\", \"Female\"])\n",
    "\n",
    "data = {\n",
    "    \"Name\": name,\n",
    "    \"Age\": age,\n",
    "    \"Gender\": gender\n",
    "}\n",
    "\n",
    "df = pd.DataFrame(data)\n",
    "\n",
    "print(df)"
   ]
  },
  {
   "cell_type": "markdown",
   "id": "bf9a3257-36b5-4c63-acd3-0286963b1bab",
   "metadata": {},
   "source": [
    "we created three Pandas Series objects (name, age, and gender) and then created a dictionary with three keys (Name, Age, and Gender) and their corresponding values. We then passed this dictionary to the pd.DataFrame() function to create a new Pandas DataFrame object. Each key in the dictionary becomes a column in the DataFrame, and each value becomes a row."
   ]
  },
  {
   "cell_type": "code",
   "execution_count": null,
   "id": "37e49836-e32f-4c98-89b0-c5d4cf5a19fd",
   "metadata": {},
   "outputs": [],
   "source": []
  }
 ],
 "metadata": {
  "kernelspec": {
   "display_name": "Python 3 (ipykernel)",
   "language": "python",
   "name": "python3"
  },
  "language_info": {
   "codemirror_mode": {
    "name": "ipython",
    "version": 3
   },
   "file_extension": ".py",
   "mimetype": "text/x-python",
   "name": "python",
   "nbconvert_exporter": "python",
   "pygments_lexer": "ipython3",
   "version": "3.10.8"
  }
 },
 "nbformat": 4,
 "nbformat_minor": 5
}
