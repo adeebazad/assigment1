{
 "cells": [
  {
   "cell_type": "markdown",
   "id": "81c67f7e-bd43-445f-948d-9c0e9e4ab6eb",
   "metadata": {},
   "source": [
    "Q1. What is a database? Differentiate between SQL and NoSQL databases.\n"
   ]
  },
  {
   "cell_type": "markdown",
   "id": "14d038c0-fd2e-4d09-bb08-32ad04d67fd4",
   "metadata": {},
   "source": [
    "Ans-\n",
    "\n",
    "SQL and NoSQL are two different types of databases.\n",
    "SQL (Structured Query Language) is a relational database management system (RDBMS) that uses a structured schema to define and organize data in tables. \n",
    "\n",
    "NoSQL databases are non-relational and do not use a structured schema to organize data. NoSQL databases allow for more flexible and scalable data storage and retrieval, making them well-suited for applications that handle large volumes of unstructured or semi-structured data, such as social media, IoT devices, and real-time data analysis. NoSQL databases use various models such as key-value, document, graph, and column-family to store data."
   ]
  },
  {
   "cell_type": "markdown",
   "id": "f5b1f629-f255-42ff-b4da-0fd9b37b8601",
   "metadata": {},
   "source": [
    "Q2. What is DDL? Explain why CREATE, DROP, ALTER, and TRUNCATE are used with an example.\n"
   ]
  },
  {
   "cell_type": "markdown",
   "id": "14923b4d-6623-4fda-a76a-5c5aa32cb796",
   "metadata": {},
   "source": [
    "Ans-\n",
    "\n",
    "DDL stands for Data Definition Language, which is a set of SQL commands used to create, modify, and delete the structure of database objects such as tables, indexes, and constraints. The four most common DDL commands are CREATE, DROP, ALTER, and TRUNCATE.\n",
    "\n",
    "CREATE, DROP, ALTER, and TRUNCATE are all DDL commands used to create, delete, modify, and remove database objects such as tables, indexes, and constraints. These commands are essential for managing the structure and organization of a database."
   ]
  },
  {
   "cell_type": "code",
   "execution_count": 7,
   "id": "fb60d1b6-9932-4a62-9d2b-a6fc4d585110",
   "metadata": {},
   "outputs": [
    {
     "ename": "SyntaxError",
     "evalue": "invalid syntax (2720446469.py, line 1)",
     "output_type": "error",
     "traceback": [
      "\u001b[0;36m  Cell \u001b[0;32mIn[7], line 1\u001b[0;36m\u001b[0m\n\u001b[0;31m    CREATE TABLE customers (\u001b[0m\n\u001b[0m           ^\u001b[0m\n\u001b[0;31mSyntaxError\u001b[0m\u001b[0;31m:\u001b[0m invalid syntax\n"
     ]
    }
   ],
   "source": [
    "CREATE TABLE customers (\n",
    "    id INT PRIMARY KEY,\n",
    "    name VARCHAR(50),\n",
    "    email VARCHAR(50)\n",
    ");\n",
    "#########################\n",
    "\n",
    "DROP TABLE customers;\n",
    "\n",
    "\n",
    "\n",
    "##########################\n",
    "ALTER TABLE customers\n",
    "ADD COLUMN phone VARCHAR(20);\n",
    "\n",
    "###########################\n",
    "\n",
    "TRUNCATE TABLE customers;\n"
   ]
  },
  {
   "cell_type": "markdown",
   "id": "e1b122f0-f3d8-42a0-aca0-297edde82f86",
   "metadata": {},
   "source": [
    "Q3. What is DML? Explain INSERT, UPDATE, and DELETE with an example.\n"
   ]
  },
  {
   "cell_type": "markdown",
   "id": "782ad0ed-61c7-4c75-8c5c-6901fb795e59",
   "metadata": {},
   "source": [
    "Ans-\n",
    "\n",
    "DML stands for Data Manipulation Language, which is a set of SQL commands used to manipulate data stored in the database. The three most common DML commands are INSERT, UPDATE, and DELETE\n",
    "\n",
    "DML commands are used to manipulate data stored in a database. INSERT is used to add new data to a table, UPDATE is used to modify existing data, and DELETE is used to remove data from a table. "
   ]
  },
  {
   "cell_type": "code",
   "execution_count": null,
   "id": "80dce29a-7c2f-4eb7-99ef-26de732a6d12",
   "metadata": {},
   "outputs": [],
   "source": [
    "INSERT INTO customers (id, name, email)\n",
    "VALUES (1, 'John Doe', 'john.doe@example.com');\n",
    "####################################################\n",
    "UPDATE customers\n",
    "SET email = 'johndoe@example.com'\n",
    "WHERE id = 1;\n",
    "#################################################\n",
    "DELETE FROM customers\n",
    "WHERE id = 1;\n"
   ]
  },
  {
   "cell_type": "markdown",
   "id": "e6a3db86-6291-4273-bc5c-47e8fb54498f",
   "metadata": {},
   "source": [
    "Q4. What is DQL? Explain SELECT with an example.\n"
   ]
  },
  {
   "cell_type": "markdown",
   "id": "deae8ce8-aa79-454d-b3c3-c3582a26fdae",
   "metadata": {},
   "source": [
    "Ans-\n",
    "\n",
    "Data Query Language, which is a set of SQL commands used to retrieve and manipulate data stored in a database. The most common DQL command is SELECT, which is used to query data from one or more tables. Q5. Explain Primary Key and Foreign Key.\n"
   ]
  },
  {
   "cell_type": "code",
   "execution_count": null,
   "id": "ce743a6c-2a14-4ce0-88fc-64d1db8f12bb",
   "metadata": {},
   "outputs": [],
   "source": [
    "SELECT id, name, email\n",
    "FROM customers\n",
    "WHERE name LIKE 'J%';"
   ]
  },
  {
   "cell_type": "code",
   "execution_count": null,
   "id": "35363605-a180-4b7e-8da1-bb950bb5ff61",
   "metadata": {},
   "outputs": [],
   "source": []
  },
  {
   "cell_type": "markdown",
   "id": "72fe609f-486b-4ad6-91a0-9b359c1e342e",
   "metadata": {},
   "source": [
    "Q6. Write a python code to connect MySQL to python. Explain the cursor() and execute() method.\n"
   ]
  },
  {
   "cell_type": "markdown",
   "id": "fe131f04-2bc2-4703-9da9-429dc9547871",
   "metadata": {},
   "source": [
    "Ans-\n",
    "we create a cursor object using the cursor() method of the connection object. The cursor object is used to execute SQL queries and fetch results.\n",
    "We then use the execute() method of the cursor object to execute a SQL query. "
   ]
  },
  {
   "cell_type": "code",
   "execution_count": 8,
   "id": "37b59b19-3e73-4a39-8bd1-8dbc8c619a55",
   "metadata": {},
   "outputs": [
    {
     "ename": "ModuleNotFoundError",
     "evalue": "No module named 'mysql'",
     "output_type": "error",
     "traceback": [
      "\u001b[0;31m---------------------------------------------------------------------------\u001b[0m",
      "\u001b[0;31mModuleNotFoundError\u001b[0m                       Traceback (most recent call last)",
      "Cell \u001b[0;32mIn[8], line 1\u001b[0m\n\u001b[0;32m----> 1\u001b[0m \u001b[38;5;28;01mimport\u001b[39;00m \u001b[38;5;21;01mmysql\u001b[39;00m\u001b[38;5;21;01m.\u001b[39;00m\u001b[38;5;21;01mconnector\u001b[39;00m\n\u001b[1;32m      3\u001b[0m \u001b[38;5;66;03m# Connect to the database\u001b[39;00m\n\u001b[1;32m      4\u001b[0m mydb \u001b[38;5;241m=\u001b[39m mysql\u001b[38;5;241m.\u001b[39mconnector\u001b[38;5;241m.\u001b[39mconnect(\n\u001b[1;32m      5\u001b[0m   host\u001b[38;5;241m=\u001b[39m\u001b[38;5;124m\"\u001b[39m\u001b[38;5;124mlocalhost\u001b[39m\u001b[38;5;124m\"\u001b[39m,\n\u001b[1;32m      6\u001b[0m   user\u001b[38;5;241m=\u001b[39m\u001b[38;5;124m\"\u001b[39m\u001b[38;5;124myourusername\u001b[39m\u001b[38;5;124m\"\u001b[39m,\n\u001b[1;32m      7\u001b[0m   password\u001b[38;5;241m=\u001b[39m\u001b[38;5;124m\"\u001b[39m\u001b[38;5;124myourpassword\u001b[39m\u001b[38;5;124m\"\u001b[39m,\n\u001b[1;32m      8\u001b[0m   database\u001b[38;5;241m=\u001b[39m\u001b[38;5;124m\"\u001b[39m\u001b[38;5;124myourdatabase\u001b[39m\u001b[38;5;124m\"\u001b[39m\n\u001b[1;32m      9\u001b[0m )\n",
      "\u001b[0;31mModuleNotFoundError\u001b[0m: No module named 'mysql'"
     ]
    }
   ],
   "source": [
    "import mysql.connector\n",
    "# Connect to the database\n",
    "mydb = mysql.connector.connect(\n",
    "  host=\"localhost\",\n",
    "  user=\"yourusername\",\n",
    "  password=\"yourpassword\",\n",
    "  database=\"yourdatabase\"\n",
    ")\n",
    "\n",
    "# Create a cursor object\n",
    "mycursor = mydb.cursor()\n",
    "\n",
    "# Execute a query\n",
    "mycursor.execute(\"SELECT * FROM customers\")\n",
    "\n",
    "# Fetch the results\n",
    "myresult = mycursor.fetchall()\n",
    "\n",
    "# Display the results\n",
    "for row in myresult:\n",
    "  print(row)\n"
   ]
  },
  {
   "cell_type": "markdown",
   "id": "4f6c067c-3f06-4dc8-8060-1bfd4807dfdd",
   "metadata": {},
   "source": [
    "Q7. Give the order of execution of SQL clauses in an SQL query."
   ]
  },
  {
   "cell_type": "code",
   "execution_count": null,
   "id": "184c1d7f-c155-495c-9b1f-e528779305e1",
   "metadata": {},
   "outputs": [],
   "source": []
  }
 ],
 "metadata": {
  "kernelspec": {
   "display_name": "Python 3 (ipykernel)",
   "language": "python",
   "name": "python3"
  },
  "language_info": {
   "codemirror_mode": {
    "name": "ipython",
    "version": 3
   },
   "file_extension": ".py",
   "mimetype": "text/x-python",
   "name": "python",
   "nbconvert_exporter": "python",
   "pygments_lexer": "ipython3",
   "version": "3.10.8"
  }
 },
 "nbformat": 4,
 "nbformat_minor": 5
}
